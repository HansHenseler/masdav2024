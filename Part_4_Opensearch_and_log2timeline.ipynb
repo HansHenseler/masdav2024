{
  "nbformat": 4,
  "nbformat_minor": 0,
  "metadata": {
    "colab": {
      "provenance": [],
      "collapsed_sections": [
        "bfONyKEXN-rV",
        "O3GkaEj-qYFt",
        "PiIcl3VyVUjD",
        "Q7LqOkfLqALX",
        "OQQeukgAqBHK",
        "3bT56CM1qEXT",
        "-LG7gL7GqGr9"
      ],
      "toc_visible": true,
      "include_colab_link": true
    },
    "kernelspec": {
      "name": "python3",
      "display_name": "Python 3"
    },
    "language_info": {
      "name": "python"
    }
  },
  "cells": [
    {
      "cell_type": "markdown",
      "metadata": {
        "id": "view-in-github",
        "colab_type": "text"
      },
      "source": [
        "<a href=\"https://colab.research.google.com/github/HansHenseler/masdav2024/blob/main/Part_4_Opensearch_and_log2timeline.ipynb\" target=\"_parent\"><img src=\"https://colab.research.google.com/assets/colab-badge.svg\" alt=\"Open In Colab\"/></a>"
      ]
    },
    {
      "cell_type": "markdown",
      "metadata": {
        "id": "hvx7X9eKBoYA"
      },
      "source": [
        "# Opensearch and log2timeline\n",
        "\n",
        "Exercise 4:\n",
        "\n",
        "Master of Advanced Studies in Digital Forensics & Cyber Investigation\n",
        "\n",
        "Data Analytics and Visualization for Digital Forensics\n",
        "\n",
        "(c) Hans Henseler, 2024\n"
      ]
    },
    {
      "cell_type": "markdown",
      "metadata": {
        "id": "KnErnDkm3BxJ"
      },
      "source": [
        "## 1 Installing plaso tools in the colab notebook\n",
        "\n",
        "First install Plaso-tools as we did in exercise 3"
      ]
    },
    {
      "cell_type": "code",
      "metadata": {
        "id": "QiPCqp_jBcjA"
      },
      "source": [
        "# various install steps to install plaso tools and dependencies to get plaso working in colab\n",
        "# -y option is to skip user interaction\n",
        "# some packages need to be deinstalled and reinstalled to resolve dependencies\n",
        "# these steps take app. 4 minutes to complete on a fresh colab instance\n",
        "!add-apt-repository -y ppa:gift/stable\n",
        "!apt update\n",
        "!apt-get update\n",
        "!apt install plaso-tools"
      ],
      "execution_count": null,
      "outputs": []
    },
    {
      "cell_type": "code",
      "source": [
        "# This notebook was tested with version 20240308 (since 2022 psort.py assumes opensearch and no longer supports elasticsearch)\n",
        "\n",
        "!psort.py -V"
      ],
      "metadata": {
        "id": "hmocpynUQSmE"
      },
      "execution_count": null,
      "outputs": []
    },
    {
      "cell_type": "code",
      "metadata": {
        "id": "RmBhoSqiaPwF",
        "colab": {
          "base_uri": "https://localhost:8080/"
        },
        "outputId": "1727e2e6-7a84-4f74-ba15-ae9cb859c3a2"
      },
      "source": [
        "# check if plaso tools were installed by running psort.py\n",
        "\n",
        "!psort.py -o list\n"
      ],
      "execution_count": null,
      "outputs": [
        {
          "output_type": "stream",
          "name": "stdout",
          "text": [
            "\n",
            "******************************** Output Modules ********************************\n",
            "         Name : Description\n",
            "--------------------------------------------------------------------------------\n",
            "      dynamic : Dynamic selection of fields for a separated value output\n",
            "                format.\n",
            "         json : Saves the events into a JSON format.\n",
            "    json_line : Saves the events into a JSON line format.\n",
            "          kml : Saves events with geography data into a KML format.\n",
            "       l2tcsv : CSV format used by legacy log2timeline, with 17 fixed fields.\n",
            "       l2ttln : Extended TLN 7 field | delimited output.\n",
            "         null : Output module that does not output anything.\n",
            "   opensearch : Saves the events into an OpenSearch database.\n",
            "opensearch_ts : Saves the events into an OpenSearch database for use with\n",
            "                Timesketch.\n",
            "        rawpy : native (or \"raw\") Python output.\n",
            "          tln : TLN 5 field | delimited output.\n",
            "         xlsx : Excel Spreadsheet (XLSX) output\n",
            "--------------------------------------------------------------------------------\n"
          ]
        }
      ]
    },
    {
      "cell_type": "markdown",
      "metadata": {
        "id": "JCNx7vKzDChD"
      },
      "source": [
        "## 2 Download and setup the Opensearch instance\n",
        "\n",
        "There are different was to install and use Opensearch. Because we are working in a notebook we will download and install using a tar-ball which can be downloaded from: https://opensearch.org/downloads.html ."
      ]
    },
    {
      "cell_type": "code",
      "source": [
        "!wget -q https://artifacts.opensearch.org/releases/bundle/opensearch/2.15.0/opensearch-2.15.0-linux-x64.tar.gz\n",
        "!wget -q https://artifacts.opensearch.org/releases/bundle/opensearch/2.15.0/opensearch-2.15.0-linux-x64.tar.gz.sha512\n",
        "\n",
        "!tar -zxf opensearch-2.15.0-linux-x64.tar.gz\n",
        "!shasum -a 512 -c opensearch-2.15.0-linux-x64.tar.gz.sha512"
      ],
      "metadata": {
        "colab": {
          "base_uri": "https://localhost:8080/"
        },
        "id": "KsEdF7c8Jlha",
        "outputId": "9b03d676-cf29-4ad8-c5b3-4047348528a6"
      },
      "execution_count": null,
      "outputs": [
        {
          "output_type": "stream",
          "name": "stdout",
          "text": [
            "opensearch-2.15.0-linux-x64.tar.gz: OK\n"
          ]
        }
      ]
    },
    {
      "cell_type": "code",
      "source": [
        "!whoami"
      ],
      "metadata": {
        "colab": {
          "base_uri": "https://localhost:8080/"
        },
        "id": "ONleFpDomVC8",
        "outputId": "fab2c223-74f4-4e70-b951-1ef28507638c"
      },
      "execution_count": null,
      "outputs": [
        {
          "output_type": "stream",
          "name": "stdout",
          "text": [
            "root\n"
          ]
        }
      ]
    },
    {
      "cell_type": "code",
      "source": [
        "# change the owner of the Opensearch filetree from root to daemon because Opensearch cannot run as root.\n",
        "\n",
        "!sudo chown -R daemon:daemon opensearch-2.15.0/"
      ],
      "metadata": {
        "id": "6h1BbOzS4ikn"
      },
      "execution_count": null,
      "outputs": []
    },
    {
      "cell_type": "markdown",
      "metadata": {
        "id": "sQ1gKS_FDYJG"
      },
      "source": [
        "Run Elasticsearch as a daemon process"
      ]
    },
    {
      "cell_type": "code",
      "source": [
        "# start Opensearch from the commandline as user daemon.\n",
        "\n",
        "!sudo -H -u daemon sh -c  \"export OPENSEARCH_INITIAL_ADMIN_PASSWORD='P?ssw0rd1'; opensearch-2.15.0/opensearch-tar-install.sh 1> /content/opensearch-2.15.0/logs/os.log 2> /content/opensearch-2.15.0/logs/os.err &\""
      ],
      "metadata": {
        "id": "IM6fHzer6KLY"
      },
      "execution_count": null,
      "outputs": []
    },
    {
      "cell_type": "code",
      "metadata": {
        "id": "ej6ZePUNE61X"
      },
      "source": [
        "# Sleep for few seconds to let the instance start.\n",
        "import time\n",
        "time.sleep(20)"
      ],
      "execution_count": null,
      "outputs": []
    },
    {
      "cell_type": "markdown",
      "metadata": {
        "id": "cG4sfxfbFKSP"
      },
      "source": [
        "Once the instance has been started, grep for elasticsearch in the processes list to confirm the availability."
      ]
    },
    {
      "cell_type": "code",
      "source": [
        "# this should look like this:\n",
        "# daemon     10773       1 99 18:28 ?        00:00:50 /content/opensearch-2.9.0/jdk/bin/java -Xshare:auto -Dopensearch.networkaddress.cache.ttl=60 -Dopensearch.networkaddress.cache.negative.ttl=10 -XX:+AlwaysPreTouch -Xss1m -Djava.awt.headless=true -Dfile.encoding=UTF-8 -Djna.nosys=true -XX:-OmitStackTraceInFastThrow -XX:+ShowCodeDetailsInExceptionMessages -Dio.netty.noUnsafe=true -Dio.netty.noKeySetOptimization=true -Dio.netty.recycler.maxCapacityPerThread=0 -Dio.netty.allocator.numDirectArenas=0 -Dlog4j.shutdownHookEnabled=false -Dlog4j2.disable.jmx=true -Djava.locale.providers=SPI,COMPAT -Xms1g -Xmx1g -XX:+UseG1GC -XX:G1ReservePercent=25 -XX:InitiatingHeapOccupancyPercent=30 -Djava.io.tmpdir=/tmp/opensearch-6691642717485449239 -XX:+HeapDumpOnOutOfMemoryError -XX:HeapDumpPath=data -XX:ErrorFile=logs/hs_err_pid%p.log -Xlog:gc*,gc+age=trace,safepoint:file=logs/gc.log:utctime,pid,tags:filecount=32,filesize=64m -Dclk.tck=100 -Djdk.attach.allowAttachSelf=true -Djava.security.policy=/content/opensearch-2.9.0/config/opensearch-performance-analyzer/opensearch_security.policy --add-opens=jdk.attach/sun.tools.attach=ALL-UNNAMED -XX:MaxDirectMemorySize=536870912 -Dopensearch.path.home=/content/opensearch-2.9.0 -Dopensearch.path.conf=/content/opensearch-2.9.0/config -Dopensearch.distribution.type=tar -Dopensearch.bundled_jdk=true -cp /content/opensearch-2.9.0/lib/* org.opensearch.bootstrap.OpenSearch\n",
        "# root       11243     404  0 18:29 ?        00:00:00 /bin/bash -c ps -ef | grep opensearch\n",
        "# root       11245   11243  0 18:29 ?        00:00:00 grep opensearch\n",
        "\n",
        "!ps -ef | grep opensearch"
      ],
      "metadata": {
        "id": "SoWJ-Z5U6fWH",
        "outputId": "30183892-ef83-4739-97c4-962be9104c3c",
        "colab": {
          "base_uri": "https://localhost:8080/"
        }
      },
      "execution_count": null,
      "outputs": [
        {
          "output_type": "stream",
          "name": "stdout",
          "text": [
            "daemon     11779       1 89 19:03 ?        00:00:12 /content/opensearch-2.15.0/jdk/bin/java -Xshare:\n",
            "root       12039     254  0 19:03 ?        00:00:00 /bin/bash -c ps -ef | grep opensearch\n",
            "root       12041   12039  0 19:03 ?        00:00:00 grep opensearch\n"
          ]
        }
      ]
    },
    {
      "cell_type": "markdown",
      "metadata": {
        "id": "VnjrjknBF0RD"
      },
      "source": [
        "Query the base endpoint at localhost port 9200 to retrieve information about the cluster. Opensearch requires https, username and password."
      ]
    },
    {
      "cell_type": "code",
      "metadata": {
        "id": "wEJVCLHBFMLa"
      },
      "source": [
        "# This should look like this:\n",
        "# {\n",
        "#   \"name\" : \"c6713b380721\",\n",
        "#   \"cluster_name\" : \"opensearch\",\n",
        "#   \"cluster_uuid\" : \"iSeFMOJ-QrSuWtndad89hw\",\n",
        "#   \"version\" : {\n",
        "#     \"distribution\" : \"opensearch\",\n",
        "#     \"number\" : \"2.15.0\",\n",
        "#     \"build_type\" : \"tar\",\n",
        "#     \"build_hash\" : \"61dbcd0795c9bfe9b81e5762175414bc38bbcadf\",\n",
        "#     \"build_date\" : \"2024-06-20T03:26:49.193630411Z\",\n",
        "#     \"build_snapshot\" : false,\n",
        "#     \"lucene_version\" : \"9.10.0\",\n",
        "#     \"minimum_wire_compatibility_version\" : \"7.10.0\",\n",
        "#     \"minimum_index_compatibility_version\" : \"7.0.0\"\n",
        "#   },\n",
        "#   \"tagline\" : \"The OpenSearch Project: https://opensearch.org/\"\n",
        "# }\n",
        "\n",
        "!curl -XGET https://localhost:9200 -u admin:P?ssw0rd1 --insecure"
      ],
      "execution_count": null,
      "outputs": []
    },
    {
      "cell_type": "code",
      "source": [
        "# This should look like this:\n",
        "# health status index                        uuid                   pri rep docs.count docs.deleted store.size pri.store.size\n",
        "# green  open   .plugins-ml-config           UCML1zUaSdOVW-xt1x7MJA   1   0          1            0      3.9kb          3.9kb\n",
        "# green  open   .opensearch-observability    WFUYHyPoTESfAK39S_eIgw   1   0          0            0       208b           208b\n",
        "# yellow open   security-auditlog-2024.08.07 KVXM_wPhT_uCMZg4o8GPQw   1   1          6            0     84.8kb         84.8kb\n",
        "# green  open   .opendistro_security         LjbhbvqNSnuQ4eDUM8e6Xw   1   0         10            0     78.2kb         78.2kb\n",
        "\n",
        "!curl -XGET \"https://localhost:9200/_cat/indices?v\" -u 'admin:P?ssw0rd1' --insecure"
      ],
      "metadata": {
        "id": "c_CE2h4NbQQn"
      },
      "execution_count": null,
      "outputs": []
    },
    {
      "cell_type": "markdown",
      "metadata": {
        "id": "oFXz1FUXGM1H"
      },
      "source": [
        "## 3 Use Log2timeline.py and Psort.py to load data in Elasticsearch"
      ]
    },
    {
      "cell_type": "code",
      "metadata": {
        "colab": {
          "base_uri": "https://localhost:8080/"
        },
        "id": "z-0n_jfhGWrZ",
        "outputId": "ba25d038-5561-4880-bf69-9fbbfeba28ac"
      },
      "source": [
        "from google.colab import drive\n",
        "drive.mount('/content/gdrive')"
      ],
      "execution_count": null,
      "outputs": [
        {
          "output_type": "stream",
          "name": "stdout",
          "text": [
            "Mounted at /content/gdrive\n"
          ]
        }
      ]
    },
    {
      "cell_type": "code",
      "metadata": {
        "colab": {
          "base_uri": "https://localhost:8080/"
        },
        "id": "MfTBh-2nHfll",
        "outputId": "9c7e4131-49db-4615-bec0-6174a1b49ba9"
      },
      "source": [
        "# In part 3 (step 3) we stored the mus2019ctf.plaso file in your drive.\n",
        "#\n",
        "plaso_file = 'gdrive/MyDrive/mus2019ctf.plaso'\n",
        "#\n",
        "# and check if it's there\n",
        "#\n",
        "!ls -l $plaso_file\n",
        "\n",
        "# This should look something like this:\n",
        "# -rw------- 1 root root 494424064 Aug 10 21:04 gdrive/MyDrive/mus2019ctf.plaso"
      ],
      "execution_count": null,
      "outputs": [
        {
          "output_type": "stream",
          "name": "stdout",
          "text": [
            "-rw------- 1 root root 493842432 Aug  5 12:39 gdrive/MyDrive/mus2019ctf.plaso\n"
          ]
        }
      ]
    },
    {
      "cell_type": "code",
      "metadata": {
        "id": "hAAgEwRQ48JP"
      },
      "source": [
        "# If it's not there you can create it by repeating the following steps\n",
        "#\n",
        "# The complete mus2019ctf.plaso file is 450MB and takes a while. After you have created it\n",
        "# it makes sense to store it in your gdrive so you can reuse it:\n",
        "#\n",
        "# plaso_file = 'gdrive/MyDrive/mus2019ctf.plaso'\n",
        "#\n",
        "# if not you need to create it with log2timeline.py using the complete windows_filter.yml filter\n",
        "#\n",
        "# add a shortcut in your Google drive to this shared drive https://drive.google.com/drive/folders/1KUlZUl4Sy2JzgbuRW-oHjIGFClY2bl75?usp=sharing\n",
        "# then mount you google drive in this colab (you need to authorize this colab to access your google drive)\n",
        "#\n",
        "#!pip install pyparsing==3.1.0\n",
        "#disk_image = \"/content/gdrive/MyDrive/Images/Windows/MUS-CTF-19-DESKTOP-001.E01\"\n",
        "# filter_windows = \"/content/gdrive/MyDrive/Testdata/filter_windows.yml\"\n",
        "# !ls -l  $filter_windows\n",
        "# !log2timeline.py -f $filter_windows --storage_file mus2019ctf.plaso $disk_image --parsers win7 --status_view none\n",
        "# !cp mus2019ctf.plaso \"/content/gdrive/MyDrive\""
      ],
      "execution_count": null,
      "outputs": []
    },
    {
      "cell_type": "markdown",
      "metadata": {
        "id": "ny6RqS1BM7Ht"
      },
      "source": [
        "Use psort to write events to Elasticsearch that we setup earlier. We can use the elastic output format"
      ]
    },
    {
      "cell_type": "code",
      "metadata": {
        "colab": {
          "base_uri": "https://localhost:8080/"
        },
        "id": "fMuQjfFnOOSH",
        "outputId": "b4ed466d-d542-44e5-8b26-99b15c0d32ff"
      },
      "source": [
        "# Before we do that, let's take a look at the opensearch.mappings file that comes with plaso\n",
        "# actually there is more in that folder that you may be interested in\n",
        "#\n",
        "!ls /usr/share/plaso"
      ],
      "execution_count": null,
      "outputs": [
        {
          "output_type": "stream",
          "name": "stdout",
          "text": [
            "filter_no_winsxs.yaml  opensearch.mappings  tag_linux.txt    timeliner.yaml\n",
            "filter_windows.yaml    presets.yaml\t    tag_macos.txt    winevt-rc.db\n",
            "formatters\t       signatures.conf\t    tag_windows.txt\n"
          ]
        }
      ]
    },
    {
      "cell_type": "code",
      "metadata": {
        "id": "d4lFq_LhM-l7"
      },
      "source": [
        "# let's take a look at the opensearch.mappings\n",
        "#\n",
        "!cat /usr/share/plaso/opensearch.mappings"
      ],
      "execution_count": null,
      "outputs": []
    },
    {
      "cell_type": "code",
      "source": [
        "# How is file_size defined?\n",
        "\n",
        "!grep -A 3 file_size /usr/share/plaso/opensearch.mappings"
      ],
      "metadata": {
        "id": "EwqkATgDzXT6",
        "outputId": "fc85baf9-c2d0-4a94-ecd4-5d56f8466aaf",
        "colab": {
          "base_uri": "https://localhost:8080/"
        }
      },
      "execution_count": null,
      "outputs": [
        {
          "output_type": "stream",
          "name": "stdout",
          "text": [
            "\"file_size\": {\n",
            "    \"type\": \"long\"\n",
            "},\n",
            "    \"flags\": {\n"
          ]
        }
      ]
    },
    {
      "cell_type": "code",
      "source": [
        "# Let's change the mapping for file_size to type long\n",
        "#\n",
        "#\n",
        "#    \"file_size\": {\n",
        "#      \"type\": \"long\"\n",
        "#    },"
      ],
      "metadata": {
        "id": "UOGYH2ZyIqQt"
      },
      "execution_count": null,
      "outputs": []
    },
    {
      "cell_type": "code",
      "source": [
        "!sudo sed -e '/\"file_size\": {/,/},/c\\\"file_size\": {\\n    \"type\": \"long\"\\n},' /usr/share/plaso/opensearch.mappings -i\n",
        "!grep -A 2 file_size /usr/share/plaso/opensearch.mappings\n"
      ],
      "metadata": {
        "colab": {
          "base_uri": "https://localhost:8080/"
        },
        "id": "kWuKmusknv3z",
        "outputId": "7d490c46-6c3d-49e1-f64c-b45aad30f07b"
      },
      "execution_count": null,
      "outputs": [
        {
          "output_type": "stream",
          "name": "stdout",
          "text": [
            "\"file_size\": {\n",
            "    \"type\": \"long\"\n",
            "},\n"
          ]
        }
      ]
    },
    {
      "cell_type": "code",
      "metadata": {
        "id": "2g1h4cDrND-f",
        "colab": {
          "base_uri": "https://localhost:8080/"
        },
        "outputId": "ffe43a83-612e-4c0a-f9da-e64b7ee9eda6"
      },
      "source": [
        "# run psort.py. It takes about 13 minutes to export all rows from the 472MB plaso file to OpenSearch\n",
        "\n",
        "#\n",
        "!psort.py -o opensearch --server localhost --port 9200 --opensearch-user admin --opensearch-password P?ssw0rd1 --opensearch_mappings /usr/share/plaso/opensearch.mappings --use_ssl --ca_certificates_file_path /content/opensearch-2.15.0/config/root-ca.pem --index_name newmus2019ctf $plaso_file --status_view none"
      ],
      "execution_count": null,
      "outputs": [
        {
          "output_type": "stream",
          "name": "stdout",
          "text": [
            "2024-08-07 19:20:53,078 [WARNING] (MainProcess) PID:16497 <opensearch_output> Note that specifying your OpenSearch password via --opensearch_password or the environment PLASO_OPENSEARCH_PASSWORD can expose the password to other users on the system.\n",
            "Processing completed.\n"
          ]
        }
      ]
    },
    {
      "cell_type": "code",
      "metadata": {
        "colab": {
          "base_uri": "https://localhost:8080/"
        },
        "id": "KG7_01EUaz55",
        "outputId": "3029bc7e-0870-456d-e211-56ec28253cf0"
      },
      "source": [
        "# Let's take a look again at the indices in our Elasticsearch instance\n",
        "# This should look like this:\n",
        "# health status index                        uuid                   pri rep docs.count docs.deleted store.size pri.store.size\n",
        "# green  open   .plugins-ml-config           UCML1zUaSdOVW-xt1x7MJA   1   0          1            0      3.9kb          3.9kb\n",
        "# green  open   .opensearch-observability    WFUYHyPoTESfAK39S_eIgw   1   0          0            0       208b           208b\n",
        "# yellow open   newmus2019ctf                R32IE-4sRkWPgYAJq1GOaA   1   1     805683            0    403.4mb        403.4mb\n",
        "# yellow open   security-auditlog-2024.08.07 KVXM_wPhT_uCMZg4o8GPQw   1   1         47            0     99.7kb         99.7kb\n",
        "# green  open   .opendistro_security         LjbhbvqNSnuQ4eDUM8e6Xw   1   0         10            0     78.2kb         78.2kb\n",
        "#\n",
        "\n",
        "!curl -X GET \"https://localhost:9200/_cat/indices?v\" -u admin:P?ssw0rd1 --insecure"
      ],
      "execution_count": null,
      "outputs": [
        {
          "output_type": "stream",
          "name": "stdout",
          "text": [
            "health status index                        uuid                   pri rep docs.count docs.deleted store.size pri.store.size\n",
            "green  open   .plugins-ml-config           UCML1zUaSdOVW-xt1x7MJA   1   0          1            0      3.9kb          3.9kb\n",
            "green  open   .opensearch-observability    WFUYHyPoTESfAK39S_eIgw   1   0          0            0       208b           208b\n",
            "yellow open   newmus2019ctf                R32IE-4sRkWPgYAJq1GOaA   1   1     805683            0    403.4mb        403.4mb\n",
            "yellow open   security-auditlog-2024.08.07 KVXM_wPhT_uCMZg4o8GPQw   1   1         47            0     99.7kb         99.7kb\n",
            "green  open   .opendistro_security         LjbhbvqNSnuQ4eDUM8e6Xw   1   0         10            0     78.2kb         78.2kb\n"
          ]
        }
      ]
    },
    {
      "cell_type": "code",
      "metadata": {
        "id": "Y2hOr811bT4J"
      },
      "source": [
        "# we can also see what fields were mapped in this index by Psort.py\n",
        "#\n",
        "!curl -XGET \"https://localhost:9200/newmus2019ctf/_mapping?format=json&pretty\" -u admin:P?ssw0rd1 --insecure\n"
      ],
      "execution_count": null,
      "outputs": []
    },
    {
      "cell_type": "markdown",
      "metadata": {
        "id": "lxJvrr9siH2b"
      },
      "source": [
        "## 4 Accessing Elasticsearch via the REST API"
      ]
    },
    {
      "cell_type": "code",
      "metadata": {
        "id": "onSbhUzlarAq"
      },
      "source": [
        "# we can use the elastic search api to get the first 10 results\n",
        "#\n",
        "!curl -sX GET \"https://localhost:9200/_search?format=json&pretty\" -u admin:P?ssw0rd1 --insecure"
      ],
      "execution_count": null,
      "outputs": []
    },
    {
      "cell_type": "code",
      "metadata": {
        "id": "04ONbDZbbrRR"
      },
      "source": [
        "# show the settings for the newmus2019ctf index\n",
        "\n",
        "!curl -sX GET \"https://localhost:9200/newmus2019ctf/_settings?format=json&pretty\" -u admin:P?ssw0rd1 --insecure"
      ],
      "execution_count": null,
      "outputs": []
    },
    {
      "cell_type": "markdown",
      "metadata": {
        "id": "33PDoFCDRBZt"
      },
      "source": [
        "## 5 Accessing the Opensearch API in Python"
      ]
    },
    {
      "cell_type": "code",
      "metadata": {
        "id": "dD9lqpx6QcBw"
      },
      "source": [
        "# So far we have been accessing information directly with curl from the Opensearch REST API\n",
        "# The is also an Opensearch Python API that we can use. See https://opensearch.org/docs/latest/clients/python/\n",
        "#\n",
        "\n",
        "from opensearchpy import OpenSearch\n",
        "\n",
        "host = 'localhost'\n",
        "port = 9200\n",
        "auth = ('admin', 'P?ssw0rd1') # For testing only. Don't store credentials in code.\n",
        "ca_certs_path = '/content/opensearch-2.15.0/config/root-ca.pem' # Provide a CA bundle if you use intermediate CAs with your root CA.\n",
        "\n",
        "# Create the client with SSL/TLS enabled, but hostname verification disabled.\n",
        "client = OpenSearch(\n",
        "    hosts = [{'host': 'localhost', 'port': 9200}],\n",
        "    http_compress = True, # enables gzip compression for request bodies\n",
        "    http_auth = auth,\n",
        "    use_ssl = True,\n",
        "    verify_certs = True,\n",
        "    ssl_assert_hostname = False,\n",
        "    ssl_show_warn = False,\n",
        "    ca_certs = ca_certs_path\n",
        ")\n"
      ],
      "execution_count": null,
      "outputs": []
    },
    {
      "cell_type": "markdown",
      "metadata": {
        "id": "4HtIIYd7RLL4"
      },
      "source": [
        "Which indexes are available?"
      ]
    },
    {
      "cell_type": "code",
      "metadata": {
        "colab": {
          "base_uri": "https://localhost:8080/"
        },
        "id": "6joUt6qSRN1F",
        "outputId": "41632eb8-d571-4863-8e98-459991941378"
      },
      "source": [
        "client.indices.get_alias(\"*\")"
      ],
      "execution_count": null,
      "outputs": [
        {
          "output_type": "execute_result",
          "data": {
            "text/plain": [
              "{'.plugins-ml-config': {'aliases': {}},\n",
              " '.opensearch-observability': {'aliases': {}},\n",
              " '.opensearch-sap-log-types-config': {'aliases': {}},\n",
              " 'newmus2019ctf': {'aliases': {}},\n",
              " 'security-auditlog-2024.08.07': {'aliases': {}},\n",
              " '.opendistro_security': {'aliases': {}}}"
            ]
          },
          "metadata": {},
          "execution_count": 61
        }
      ]
    },
    {
      "cell_type": "markdown",
      "metadata": {
        "id": "dIoWdkOaQ_M4"
      },
      "source": [
        "Search the index with a full-text query and get the first 5 results"
      ]
    },
    {
      "cell_type": "code",
      "metadata": {
        "id": "g677gfx1JRcu"
      },
      "source": [
        "\n",
        "response = client.search(index=\"newmus2019ctf\", body={\"query\": {\"match\": {\"message\": { \"query\": \"selmabouvier\"  }}}}, size=5)\n",
        "docs = response['hits']['hits']\n",
        "docs"
      ],
      "execution_count": null,
      "outputs": []
    },
    {
      "cell_type": "code",
      "metadata": {
        "colab": {
          "base_uri": "https://localhost:8080/"
        },
        "id": "r8jzbw53Hnz8",
        "outputId": "79bae174-4da2-4e55-8ed9-8f126777a5b5"
      },
      "source": [
        "# The '_source' property has the psort values\n",
        "#\n",
        "for num, doc in enumerate(docs):\n",
        "  print(num, '-->', doc['_source'], \"\\n\")"
      ],
      "execution_count": null,
      "outputs": [
        {
          "output_type": "stream",
          "name": "stdout",
          "text": [
            "0 --> {'data_type': 'fs:stat', 'display_name': 'NTFS:\\\\Users\\\\SelmaBouvier\\\\Desktop\\\\desktop.ini', 'file_entry_type': 'file', 'file_size': 282, 'file_system_type': 'NTFS', 'filename': '\\\\Users\\\\SelmaBouvier\\\\Desktop\\\\desktop.ini', 'inode': '1125899906949326', 'is_allocated': True, 'path_spec': '{\"__type__\": \"PathSpec\", \"mft_entry\": 106702, \"mft_attribute\": 1, \"location\": \"\\\\\\\\Users\\\\\\\\SelmaBouvier\\\\\\\\Desktop\\\\\\\\desktop.ini\", \"parent\": {\"__type__\": \"PathSpec\", \"part_index\": 2, \"start_offset\": 576716800, \"location\": \"/p1\", \"parent\": {\"__type__\": \"PathSpec\", \"parent\": {\"__type__\": \"PathSpec\", \"location\": \"/content/gdrive/MyDrive/Images/Windows/MUS-CTF-19-DESKTOP-001.E01\", \"type_indicator\": \"OS\"}, \"type_indicator\": \"EWF\"}, \"type_indicator\": \"TSK_PARTITION\"}, \"type_indicator\": \"NTFS\"}', 'sha256_hash': '4b9d687ac625690fd026ed4b236dad1cac90ef69e7ad256cc42766a065b50026', 'datetime': '2019-02-25T20:47:01.374840+00:00', 'message': 'NTFS:\\\\Users\\\\SelmaBouvier\\\\Desktop\\\\desktop.ini Type: file', 'source_long': 'File stat', 'source_short': 'FILE', 'tag': [], 'timestamp': 1551127621374840, 'timestamp_desc': 'Creation Time'} \n",
            "\n",
            "1 --> {'data_type': 'fs:stat', 'display_name': 'NTFS:\\\\Users\\\\SelmaBouvier\\\\Documents\\\\desktop.ini', 'file_entry_type': 'file', 'file_size': 402, 'file_system_type': 'NTFS', 'filename': '\\\\Users\\\\SelmaBouvier\\\\Documents\\\\desktop.ini', 'inode': '844424930238702', 'is_allocated': True, 'path_spec': '{\"__type__\": \"PathSpec\", \"mft_entry\": 106734, \"mft_attribute\": 1, \"location\": \"\\\\\\\\Users\\\\\\\\SelmaBouvier\\\\\\\\Documents\\\\\\\\desktop.ini\", \"parent\": {\"__type__\": \"PathSpec\", \"part_index\": 2, \"start_offset\": 576716800, \"location\": \"/p1\", \"parent\": {\"__type__\": \"PathSpec\", \"parent\": {\"__type__\": \"PathSpec\", \"location\": \"/content/gdrive/MyDrive/Images/Windows/MUS-CTF-19-DESKTOP-001.E01\", \"type_indicator\": \"OS\"}, \"type_indicator\": \"EWF\"}, \"type_indicator\": \"TSK_PARTITION\"}, \"type_indicator\": \"NTFS\"}', 'sha256_hash': 'cafec240d998e4b6e92ad1329cd417e8e9cbd73157488889fd93a542de4a4844', 'datetime': '2019-02-25T20:47:01.483741+00:00', 'message': 'NTFS:\\\\Users\\\\SelmaBouvier\\\\Documents\\\\desktop.ini Type: file', 'source_long': 'File stat', 'source_short': 'FILE', 'tag': [], 'timestamp': 1551127621483741, 'timestamp_desc': 'Creation Time'} \n",
            "\n",
            "2 --> {'data_type': 'fs:stat', 'display_name': 'NTFS:\\\\Users\\\\SelmaBouvier\\\\Desktop\\\\desktop.ini', 'file_entry_type': 'file', 'file_size': 282, 'file_system_type': 'NTFS', 'filename': '\\\\Users\\\\SelmaBouvier\\\\Desktop\\\\desktop.ini', 'inode': '1125899906949326', 'is_allocated': True, 'path_spec': '{\"__type__\": \"PathSpec\", \"mft_entry\": 106702, \"mft_attribute\": 1, \"location\": \"\\\\\\\\Users\\\\\\\\SelmaBouvier\\\\\\\\Desktop\\\\\\\\desktop.ini\", \"parent\": {\"__type__\": \"PathSpec\", \"part_index\": 2, \"start_offset\": 576716800, \"location\": \"/p1\", \"parent\": {\"__type__\": \"PathSpec\", \"parent\": {\"__type__\": \"PathSpec\", \"location\": \"/content/gdrive/MyDrive/Images/Windows/MUS-CTF-19-DESKTOP-001.E01\", \"type_indicator\": \"OS\"}, \"type_indicator\": \"EWF\"}, \"type_indicator\": \"TSK_PARTITION\"}, \"type_indicator\": \"NTFS\"}', 'sha256_hash': '4b9d687ac625690fd026ed4b236dad1cac90ef69e7ad256cc42766a065b50026', 'datetime': '2019-02-25T20:47:01.626798+00:00', 'message': 'NTFS:\\\\Users\\\\SelmaBouvier\\\\Desktop\\\\desktop.ini Type: file', 'source_long': 'File stat', 'source_short': 'FILE', 'tag': [], 'timestamp': 1551127621626798, 'timestamp_desc': 'Content Modification Time'} \n",
            "\n",
            "3 --> {'data_type': 'fs:stat', 'display_name': 'NTFS:\\\\Users\\\\SelmaBouvier\\\\Desktop\\\\desktop.ini', 'file_entry_type': 'file', 'file_size': 282, 'file_system_type': 'NTFS', 'filename': '\\\\Users\\\\SelmaBouvier\\\\Desktop\\\\desktop.ini', 'inode': '1125899906949326', 'is_allocated': True, 'path_spec': '{\"__type__\": \"PathSpec\", \"mft_entry\": 106702, \"mft_attribute\": 1, \"location\": \"\\\\\\\\Users\\\\\\\\SelmaBouvier\\\\\\\\Desktop\\\\\\\\desktop.ini\", \"parent\": {\"__type__\": \"PathSpec\", \"part_index\": 2, \"start_offset\": 576716800, \"location\": \"/p1\", \"parent\": {\"__type__\": \"PathSpec\", \"parent\": {\"__type__\": \"PathSpec\", \"location\": \"/content/gdrive/MyDrive/Images/Windows/MUS-CTF-19-DESKTOP-001.E01\", \"type_indicator\": \"OS\"}, \"type_indicator\": \"EWF\"}, \"type_indicator\": \"TSK_PARTITION\"}, \"type_indicator\": \"NTFS\"}', 'sha256_hash': '4b9d687ac625690fd026ed4b236dad1cac90ef69e7ad256cc42766a065b50026', 'datetime': '2019-02-25T20:47:01.626798+00:00', 'message': 'NTFS:\\\\Users\\\\SelmaBouvier\\\\Desktop\\\\desktop.ini Type: file', 'source_long': 'File stat', 'source_short': 'FILE', 'tag': [], 'timestamp': 1551127621626798, 'timestamp_desc': 'Metadata Modification Time'} \n",
            "\n",
            "4 --> {'data_type': 'fs:stat', 'display_name': 'NTFS:\\\\Users\\\\SelmaBouvier\\\\Downloads\\\\desktop.ini', 'file_entry_type': 'file', 'file_size': 282, 'file_system_type': 'NTFS', 'filename': '\\\\Users\\\\SelmaBouvier\\\\Downloads\\\\desktop.ini', 'inode': '844424930238731', 'is_allocated': True, 'path_spec': '{\"__type__\": \"PathSpec\", \"mft_entry\": 106763, \"mft_attribute\": 1, \"location\": \"\\\\\\\\Users\\\\\\\\SelmaBouvier\\\\\\\\Downloads\\\\\\\\desktop.ini\", \"parent\": {\"__type__\": \"PathSpec\", \"part_index\": 2, \"start_offset\": 576716800, \"location\": \"/p1\", \"parent\": {\"__type__\": \"PathSpec\", \"parent\": {\"__type__\": \"PathSpec\", \"location\": \"/content/gdrive/MyDrive/Images/Windows/MUS-CTF-19-DESKTOP-001.E01\", \"type_indicator\": \"OS\"}, \"type_indicator\": \"EWF\"}, \"type_indicator\": \"TSK_PARTITION\"}, \"type_indicator\": \"NTFS\"}', 'sha256_hash': 'b029393ea7b7cf644fb1c9f984f57c1980077562ee2e15d0ffd049c4c48098d3', 'datetime': '2019-02-25T20:47:01.651227+00:00', 'message': 'NTFS:\\\\Users\\\\SelmaBouvier\\\\Downloads\\\\desktop.ini Type: file', 'source_long': 'File stat', 'source_short': 'FILE', 'tag': [], 'timestamp': 1551127621651227, 'timestamp_desc': 'Creation Time'} \n",
            "\n"
          ]
        }
      ]
    },
    {
      "cell_type": "code",
      "metadata": {
        "id": "GsDMZgm0inQi"
      },
      "source": [
        "# We define a Python function to list results\n",
        "#\n",
        "def print_results(response):\n",
        "  for num, doc in enumerate(response['hits']['hits']):\n",
        "    print(num, '-->', doc['_source'])\n",
        "\n",
        "def print_results_detailed(response):\n",
        "  for num, doc in enumerate(response['hits']['hits']):\n",
        "    print('\\n---------------------------------------------------------------------------------------------------\\nresult numer: ',num)\n",
        "    for key, val in doc['_source'].items():\n",
        "      print(key, val)"
      ],
      "execution_count": null,
      "outputs": []
    },
    {
      "cell_type": "code",
      "metadata": {
        "id": "ujY4oDOxjC9t"
      },
      "source": [
        "# we can try this function on the response we got earlier\n",
        "#\n",
        "print_results_detailed(response)"
      ],
      "execution_count": null,
      "outputs": []
    },
    {
      "cell_type": "code",
      "metadata": {
        "id": "3emE62pEROEE"
      },
      "source": [
        "# Opensearch query syntax is quite elaborate. We will provide some examples in this colab\n",
        "# notice that results can have different fields. It depends on the data_type\n",
        "# For a complete overview see the Opensearch reference documents\n",
        "#\n",
        "# https://opensearch.org/docs/latest/opensearch/query-dsl/index/\n",
        "#\n",
        "#query = '{\"query\": { \"query_string\": {\"query\": \"source_short: WEBHIST\"  }}}'\n",
        "#query = '{\"query\": { \"query_string\": {\"query\": \"data_type: windows*link\"  }}}'\n",
        "#query = '{\"query\": { \"query_string\": {\"query\": \"drive_type: 3\"  }}}'\n",
        "#query = '{\"query\": { \"query_string\": {\"query\": \"drive_type: 3 AND data_type: windows*link\" }}}'\n",
        "#query = '{\"query\": { \"range\": {\"drive_type\": { \"gte\":0 , \"lte\":2 } }}}'\n",
        "#query = '{\"query\": { \"range\": {\"drive_type\": { \"gte\":1 , \"lte\":3 } }}}'\n",
        "#query = '{\"query\": { \"query_string\": {\"query\": \"drive_type:>=0 and drive_type:<2\"  }}}'\n",
        "query = '{\"query\": { \"query_string\": {\"query\": \"SelmaBouvier\"  }}}'\n",
        "#query = '{\"query\": { \"query_string\": {\"query\": \"file_size:>100000 \"  }}}'\n",
        "#query = '{\"query\": { \"query_string\": {\"query\": \"file_size:<29696\"  }}}'\n",
        "#query = '{\"query\": { \"range\": {\"file_size\": { \"gte\":10000, \"lte\":100000 }  }}}'\n",
        "#query = '{\"query\": { \"query_string\": {\"query\": \"data_type: msie\\\\\\\\:*\"  }}}'\n",
        "\n",
        "\n",
        "response = client.search(index=\"newmus2019ctf\", body=query, size=15)\n",
        "\n",
        "print_results_detailed(response)\n"
      ],
      "execution_count": null,
      "outputs": []
    },
    {
      "cell_type": "markdown",
      "metadata": {
        "id": "ntL8SJQrSW48"
      },
      "source": [
        "## 6 Elasticsearch field aggregation"
      ]
    },
    {
      "cell_type": "code",
      "metadata": {
        "id": "z4WMaiojSeS8"
      },
      "source": [
        "# First we define some helper functions:\n",
        "\n",
        "def print_facets(agg_dict):\n",
        "  sum=0\n",
        "  for field, val in agg_dict:\n",
        "      print(\"facets of field \", field,':')\n",
        "      for bucket in val['buckets']:\n",
        "        for key in bucket:\n",
        "          if key=='key':\n",
        "            print('\\t',bucket[key],end='=')\n",
        "          else:\n",
        "            print(bucket[key],end='')\n",
        "            sum = sum + bucket[key]\n",
        "        print()\n",
        "      print(\"total number of hits for \",field,\" is \",sum)\n",
        "\n",
        "def print_hit_stats(response):\n",
        "  print('hit stats:')\n",
        "  for key, val in response['hits'].items():\n",
        "      print(key, val)\n",
        "  print('\\n')\n"
      ],
      "execution_count": null,
      "outputs": []
    },
    {
      "cell_type": "code",
      "metadata": {
        "colab": {
          "base_uri": "https://localhost:8080/"
        },
        "id": "BGDcgt8nrw0n",
        "outputId": "2ab3bdd1-272e-4d18-a524-0c42079fa327"
      },
      "source": [
        "querystring = '{ \"query_string\": {\"query\": \"source_short: WEBHIST\"  }}'\n",
        "\n",
        "query = '{\"query\": %s}' % querystring\n",
        "\n",
        "print(query)\n"
      ],
      "execution_count": null,
      "outputs": [
        {
          "output_type": "stream",
          "name": "stdout",
          "text": [
            "{\"query\": { \"query_string\": {\"query\": \"source_short: WEBHIST\"  }}}\n"
          ]
        }
      ]
    },
    {
      "cell_type": "code",
      "metadata": {
        "colab": {
          "base_uri": "https://localhost:8080/"
        },
        "id": "ESLAGTYqjcuD",
        "outputId": "b5b344ab-5c35-4ee6-8737-b5355a698e1e"
      },
      "source": [
        "# Aggregating results is one of the most powerful options in Elasticsearch\n",
        "#\n",
        "# https://opensearch.org/docs/latest/opensearch/aggregations/\n",
        "#\n",
        "querystring = '{ \"query_string\": {\"query\": \"SelmaBouvier\"  }}'\n",
        "facets = '\"aggs\": { \"data_type\": { \"terms\": { \"field\": \"data_type.keyword\"}}}'\n",
        "query = '{\"query\": %s,%s}' % (querystring,facets)\n",
        "\n",
        "print(query)\n"
      ],
      "execution_count": null,
      "outputs": [
        {
          "output_type": "stream",
          "name": "stdout",
          "text": [
            "{\"query\": { \"query_string\": {\"query\": \"SelmaBouvier\"  }},\"aggs\": { \"data_type\": { \"terms\": { \"field\": \"data_type.keyword\"}}}}\n"
          ]
        }
      ]
    },
    {
      "cell_type": "code",
      "metadata": {
        "colab": {
          "base_uri": "https://localhost:8080/"
        },
        "id": "NMY1XjMjSN_X",
        "outputId": "29b3a793-3beb-4cc6-b3d1-7c860d0319fb"
      },
      "source": [
        "# we can search and ask for size=0 results but we will get the total number of hits (=results) and also the facet counts\n",
        "\n",
        "response = client.search(index=\"newmus2019ctf\", body=query, size=0)\n",
        "print_hit_stats(response)\n",
        "\n",
        "print_facets(response['aggregations'].items())\n",
        "# print_results(response)"
      ],
      "execution_count": null,
      "outputs": [
        {
          "output_type": "stream",
          "name": "stdout",
          "text": [
            "hit stats:\n",
            "total {'value': 3879, 'relation': 'eq'}\n",
            "max_score None\n",
            "hits []\n",
            "\n",
            "\n",
            "facets of field  data_type :\n",
            "\t windows:evtx:record=2698\n",
            "\t msie:webcache:container=522\n",
            "\t fs:stat=220\n",
            "\t windows:prefetch:execution=172\n",
            "\t windows:lnk:link=53\n",
            "\t windows:registry:key_value=44\n",
            "\t msie:webcache:cookie=40\n",
            "\t msie:webcache:containers=31\n",
            "\t windows:registry:appcompatcache=27\n",
            "\t windows:distributed_link_tracking:creation=25\n",
            "total number of hits for  data_type  is  3832\n"
          ]
        }
      ]
    },
    {
      "cell_type": "code",
      "metadata": {
        "colab": {
          "base_uri": "https://localhost:8080/"
        },
        "id": "EPj4yYw1j8jP",
        "outputId": "51277ccb-5c19-43eb-ac20-7f707a185e2b"
      },
      "source": [
        "# Aggregate accross multiple facets\n",
        "#\n",
        "querystring = '{ \"query_string\": {\"query\": \"SelmaBouvier\"  }}'\n",
        "\n",
        "facets = '\"aggs\": { \"source_long\": { \"terms\": { \"field\": \"source_long.keyword\"}},  \"data_type\": { \"terms\": { \"field\": \"data_type.keyword\"}}}'\n",
        "query = '{\"query\": %s,%s}' % (querystring,facets)\n",
        "\n",
        "response = client.search(index=\"newmus2019ctf\", body=query, size=3)\n",
        "\n",
        "print_facets(response['aggregations'].items())\n"
      ],
      "execution_count": null,
      "outputs": [
        {
          "output_type": "stream",
          "name": "stdout",
          "text": [
            "facets of field  source_long :\n",
            "\t WinEVTX=2698\n",
            "\t MSIE WebCache container record=522\n",
            "\t File stat=220\n",
            "\t WinPrefetch=172\n",
            "\t Windows Shortcut=53\n",
            "\t Registry Key=44\n",
            "\t MSIE WebCache cookies record=40\n",
            "\t MSIE WebCache containers record=31\n",
            "\t AppCompatCache Registry Key=27\n",
            "\t System=25\n",
            "total number of hits for  source_long  is  3832\n",
            "facets of field  data_type :\n",
            "\t windows:evtx:record=2698\n",
            "\t msie:webcache:container=522\n",
            "\t fs:stat=220\n",
            "\t windows:prefetch:execution=172\n",
            "\t windows:lnk:link=53\n",
            "\t windows:registry:key_value=44\n",
            "\t msie:webcache:cookie=40\n",
            "\t msie:webcache:containers=31\n",
            "\t windows:registry:appcompatcache=27\n",
            "\t windows:distributed_link_tracking:creation=25\n",
            "total number of hits for  data_type  is  7664\n"
          ]
        }
      ]
    },
    {
      "cell_type": "code",
      "source": [
        "# aggregate accross datetime\n",
        "#\n",
        "# also see pipeline aggregations https://opensearch.org/docs/latest/opensearch/pipeline-agg/\n",
        "\n",
        "querystring = '{ \"query_string\": {\"query\": \"\\\\\\<\\\\\\/Event\\\\\\>\"  }}'\n",
        "\n",
        "facets = '\"aggs\": { \"datetime\": { \"date_histogram\": { \"field\": \"datetime\", \"calendar_interval\": \"year\"}}}'\n",
        "\n",
        "query = '{\"query\": %s,%s}' % (querystring,facets)\n",
        "\n",
        "response = client.search(index=\"newmus2019ctf\", body=query, size=0)\n",
        "\n",
        "response"
      ],
      "metadata": {
        "id": "GYx-YqTwT756",
        "outputId": "0d88d89b-d95c-4acf-92b9-fbce73bfd998",
        "colab": {
          "base_uri": "https://localhost:8080/"
        }
      },
      "execution_count": null,
      "outputs": [
        {
          "output_type": "execute_result",
          "data": {
            "text/plain": [
              "{'took': 888,\n",
              " 'timed_out': False,\n",
              " '_shards': {'total': 1, 'successful': 1, 'skipped': 0, 'failed': 0},\n",
              " 'hits': {'total': {'value': 10000, 'relation': 'gte'},\n",
              "  'max_score': None,\n",
              "  'hits': []},\n",
              " 'aggregations': {'datetime': {'buckets': [{'key_as_string': '1970-01-01T00:00:00.000Z',\n",
              "     'key': 0,\n",
              "     'doc_count': 2},\n",
              "    {'key_as_string': '1971-01-01T00:00:00.000Z',\n",
              "     'key': 31536000000,\n",
              "     'doc_count': 0},\n",
              "    {'key_as_string': '1972-01-01T00:00:00.000Z',\n",
              "     'key': 63072000000,\n",
              "     'doc_count': 0},\n",
              "    {'key_as_string': '1973-01-01T00:00:00.000Z',\n",
              "     'key': 94694400000,\n",
              "     'doc_count': 0},\n",
              "    {'key_as_string': '1974-01-01T00:00:00.000Z',\n",
              "     'key': 126230400000,\n",
              "     'doc_count': 0},\n",
              "    {'key_as_string': '1975-01-01T00:00:00.000Z',\n",
              "     'key': 157766400000,\n",
              "     'doc_count': 0},\n",
              "    {'key_as_string': '1976-01-01T00:00:00.000Z',\n",
              "     'key': 189302400000,\n",
              "     'doc_count': 0},\n",
              "    {'key_as_string': '1977-01-01T00:00:00.000Z',\n",
              "     'key': 220924800000,\n",
              "     'doc_count': 0},\n",
              "    {'key_as_string': '1978-01-01T00:00:00.000Z',\n",
              "     'key': 252460800000,\n",
              "     'doc_count': 0},\n",
              "    {'key_as_string': '1979-01-01T00:00:00.000Z',\n",
              "     'key': 283996800000,\n",
              "     'doc_count': 0},\n",
              "    {'key_as_string': '1980-01-01T00:00:00.000Z',\n",
              "     'key': 315532800000,\n",
              "     'doc_count': 0},\n",
              "    {'key_as_string': '1981-01-01T00:00:00.000Z',\n",
              "     'key': 347155200000,\n",
              "     'doc_count': 0},\n",
              "    {'key_as_string': '1982-01-01T00:00:00.000Z',\n",
              "     'key': 378691200000,\n",
              "     'doc_count': 0},\n",
              "    {'key_as_string': '1983-01-01T00:00:00.000Z',\n",
              "     'key': 410227200000,\n",
              "     'doc_count': 0},\n",
              "    {'key_as_string': '1984-01-01T00:00:00.000Z',\n",
              "     'key': 441763200000,\n",
              "     'doc_count': 0},\n",
              "    {'key_as_string': '1985-01-01T00:00:00.000Z',\n",
              "     'key': 473385600000,\n",
              "     'doc_count': 0},\n",
              "    {'key_as_string': '1986-01-01T00:00:00.000Z',\n",
              "     'key': 504921600000,\n",
              "     'doc_count': 0},\n",
              "    {'key_as_string': '1987-01-01T00:00:00.000Z',\n",
              "     'key': 536457600000,\n",
              "     'doc_count': 0},\n",
              "    {'key_as_string': '1988-01-01T00:00:00.000Z',\n",
              "     'key': 567993600000,\n",
              "     'doc_count': 0},\n",
              "    {'key_as_string': '1989-01-01T00:00:00.000Z',\n",
              "     'key': 599616000000,\n",
              "     'doc_count': 0},\n",
              "    {'key_as_string': '1990-01-01T00:00:00.000Z',\n",
              "     'key': 631152000000,\n",
              "     'doc_count': 0},\n",
              "    {'key_as_string': '1991-01-01T00:00:00.000Z',\n",
              "     'key': 662688000000,\n",
              "     'doc_count': 0},\n",
              "    {'key_as_string': '1992-01-01T00:00:00.000Z',\n",
              "     'key': 694224000000,\n",
              "     'doc_count': 0},\n",
              "    {'key_as_string': '1993-01-01T00:00:00.000Z',\n",
              "     'key': 725846400000,\n",
              "     'doc_count': 0},\n",
              "    {'key_as_string': '1994-01-01T00:00:00.000Z',\n",
              "     'key': 757382400000,\n",
              "     'doc_count': 0},\n",
              "    {'key_as_string': '1995-01-01T00:00:00.000Z',\n",
              "     'key': 788918400000,\n",
              "     'doc_count': 0},\n",
              "    {'key_as_string': '1996-01-01T00:00:00.000Z',\n",
              "     'key': 820454400000,\n",
              "     'doc_count': 0},\n",
              "    {'key_as_string': '1997-01-01T00:00:00.000Z',\n",
              "     'key': 852076800000,\n",
              "     'doc_count': 0},\n",
              "    {'key_as_string': '1998-01-01T00:00:00.000Z',\n",
              "     'key': 883612800000,\n",
              "     'doc_count': 0},\n",
              "    {'key_as_string': '1999-01-01T00:00:00.000Z',\n",
              "     'key': 915148800000,\n",
              "     'doc_count': 0},\n",
              "    {'key_as_string': '2000-01-01T00:00:00.000Z',\n",
              "     'key': 946684800000,\n",
              "     'doc_count': 0},\n",
              "    {'key_as_string': '2001-01-01T00:00:00.000Z',\n",
              "     'key': 978307200000,\n",
              "     'doc_count': 0},\n",
              "    {'key_as_string': '2002-01-01T00:00:00.000Z',\n",
              "     'key': 1009843200000,\n",
              "     'doc_count': 0},\n",
              "    {'key_as_string': '2003-01-01T00:00:00.000Z',\n",
              "     'key': 1041379200000,\n",
              "     'doc_count': 0},\n",
              "    {'key_as_string': '2004-01-01T00:00:00.000Z',\n",
              "     'key': 1072915200000,\n",
              "     'doc_count': 2},\n",
              "    {'key_as_string': '2005-01-01T00:00:00.000Z',\n",
              "     'key': 1104537600000,\n",
              "     'doc_count': 2},\n",
              "    {'key_as_string': '2006-01-01T00:00:00.000Z',\n",
              "     'key': 1136073600000,\n",
              "     'doc_count': 0},\n",
              "    {'key_as_string': '2007-01-01T00:00:00.000Z',\n",
              "     'key': 1167609600000,\n",
              "     'doc_count': 0},\n",
              "    {'key_as_string': '2008-01-01T00:00:00.000Z',\n",
              "     'key': 1199145600000,\n",
              "     'doc_count': 0},\n",
              "    {'key_as_string': '2009-01-01T00:00:00.000Z',\n",
              "     'key': 1230768000000,\n",
              "     'doc_count': 1},\n",
              "    {'key_as_string': '2010-01-01T00:00:00.000Z',\n",
              "     'key': 1262304000000,\n",
              "     'doc_count': 6},\n",
              "    {'key_as_string': '2011-01-01T00:00:00.000Z',\n",
              "     'key': 1293840000000,\n",
              "     'doc_count': 4},\n",
              "    {'key_as_string': '2012-01-01T00:00:00.000Z',\n",
              "     'key': 1325376000000,\n",
              "     'doc_count': 69},\n",
              "    {'key_as_string': '2013-01-01T00:00:00.000Z',\n",
              "     'key': 1356998400000,\n",
              "     'doc_count': 0},\n",
              "    {'key_as_string': '2014-01-01T00:00:00.000Z',\n",
              "     'key': 1388534400000,\n",
              "     'doc_count': 0},\n",
              "    {'key_as_string': '2015-01-01T00:00:00.000Z',\n",
              "     'key': 1420070400000,\n",
              "     'doc_count': 0},\n",
              "    {'key_as_string': '2016-01-01T00:00:00.000Z',\n",
              "     'key': 1451606400000,\n",
              "     'doc_count': 2},\n",
              "    {'key_as_string': '2017-01-01T00:00:00.000Z',\n",
              "     'key': 1483228800000,\n",
              "     'doc_count': 0},\n",
              "    {'key_as_string': '2018-01-01T00:00:00.000Z',\n",
              "     'key': 1514764800000,\n",
              "     'doc_count': 201836},\n",
              "    {'key_as_string': '2019-01-01T00:00:00.000Z',\n",
              "     'key': 1546300800000,\n",
              "     'doc_count': 62933},\n",
              "    {'key_as_string': '2020-01-01T00:00:00.000Z',\n",
              "     'key': 1577836800000,\n",
              "     'doc_count': 14},\n",
              "    {'key_as_string': '2021-01-01T00:00:00.000Z',\n",
              "     'key': 1609459200000,\n",
              "     'doc_count': 6},\n",
              "    {'key_as_string': '2022-01-01T00:00:00.000Z',\n",
              "     'key': 1640995200000,\n",
              "     'doc_count': 0},\n",
              "    {'key_as_string': '2023-01-01T00:00:00.000Z',\n",
              "     'key': 1672531200000,\n",
              "     'doc_count': 0},\n",
              "    {'key_as_string': '2024-01-01T00:00:00.000Z',\n",
              "     'key': 1704067200000,\n",
              "     'doc_count': 0},\n",
              "    {'key_as_string': '2025-01-01T00:00:00.000Z',\n",
              "     'key': 1735689600000,\n",
              "     'doc_count': 0},\n",
              "    {'key_as_string': '2026-01-01T00:00:00.000Z',\n",
              "     'key': 1767225600000,\n",
              "     'doc_count': 0},\n",
              "    {'key_as_string': '2027-01-01T00:00:00.000Z',\n",
              "     'key': 1798761600000,\n",
              "     'doc_count': 0},\n",
              "    {'key_as_string': '2028-01-01T00:00:00.000Z',\n",
              "     'key': 1830297600000,\n",
              "     'doc_count': 1},\n",
              "    {'key_as_string': '2029-01-01T00:00:00.000Z',\n",
              "     'key': 1861920000000,\n",
              "     'doc_count': 0},\n",
              "    {'key_as_string': '2030-01-01T00:00:00.000Z',\n",
              "     'key': 1893456000000,\n",
              "     'doc_count': 0},\n",
              "    {'key_as_string': '2031-01-01T00:00:00.000Z',\n",
              "     'key': 1924992000000,\n",
              "     'doc_count': 0},\n",
              "    {'key_as_string': '2032-01-01T00:00:00.000Z',\n",
              "     'key': 1956528000000,\n",
              "     'doc_count': 0},\n",
              "    {'key_as_string': '2033-01-01T00:00:00.000Z',\n",
              "     'key': 1988150400000,\n",
              "     'doc_count': 0},\n",
              "    {'key_as_string': '2034-01-01T00:00:00.000Z',\n",
              "     'key': 2019686400000,\n",
              "     'doc_count': 0},\n",
              "    {'key_as_string': '2035-01-01T00:00:00.000Z',\n",
              "     'key': 2051222400000,\n",
              "     'doc_count': 0},\n",
              "    {'key_as_string': '2036-01-01T00:00:00.000Z',\n",
              "     'key': 2082758400000,\n",
              "     'doc_count': 0},\n",
              "    {'key_as_string': '2037-01-01T00:00:00.000Z',\n",
              "     'key': 2114380800000,\n",
              "     'doc_count': 2}]}}}"
            ]
          },
          "metadata": {},
          "execution_count": 72
        }
      ]
    },
    {
      "cell_type": "code",
      "source": [
        "# aggregate accross file_size (must have changed type text to long in mappings file before psort.py)\n",
        "#\n",
        "# also see pipeline aggregations https://opensearch.org/docs/latest/opensearch/pipeline-agg/\n",
        "\n",
        "querystring = '{ \"query_string\": {\"query\": \"file_size:<100000000\"  }}'\n",
        "\n",
        "facets = '\"aggs\": { \"file_size\": { \"histogram\": { \"field\": \"file_size\", \"interval\": 10000000}}}'\n",
        "\n",
        "query = '{\"query\": %s,%s}' % (querystring,facets)\n",
        "\n",
        "response = client.search(index=\"newmus2019ctf\", body=query, size=0)\n",
        "\n",
        "print_facets(response['aggregations'].items())"
      ],
      "metadata": {
        "id": "4ZkEVUS7WHhb",
        "outputId": "78f06cc6-1b35-4ad1-c2cc-f7adc6abaec7",
        "colab": {
          "base_uri": "https://localhost:8080/",
          "height": 426
        }
      },
      "execution_count": null,
      "outputs": [
        {
          "output_type": "stream",
          "name": "stderr",
          "text": [
            "WARNING:opensearch:POST https://localhost:9200/newmus2019ctf/_search?size=0 [status:400 request:0.029s]\n"
          ]
        },
        {
          "output_type": "error",
          "ename": "RequestError",
          "evalue": "RequestError(400, 'search_phase_execution_exception', 'Text fields are not optimised for operations that require per-document field data like aggregations and sorting, so these operations are disabled by default. Please use a keyword field instead. Alternatively, set fielddata=true on [file_size] in order to load field data by uninverting the inverted index. Note that this can use significant memory.')",
          "traceback": [
            "\u001b[0;31m---------------------------------------------------------------------------\u001b[0m",
            "\u001b[0;31mRequestError\u001b[0m                              Traceback (most recent call last)",
            "\u001b[0;32m<ipython-input-73-33e1bbc1ee11>\u001b[0m in \u001b[0;36m<cell line: 11>\u001b[0;34m()\u001b[0m\n\u001b[1;32m      9\u001b[0m \u001b[0mquery\u001b[0m \u001b[0;34m=\u001b[0m \u001b[0;34m'{\"query\": %s,%s}'\u001b[0m \u001b[0;34m%\u001b[0m \u001b[0;34m(\u001b[0m\u001b[0mquerystring\u001b[0m\u001b[0;34m,\u001b[0m\u001b[0mfacets\u001b[0m\u001b[0;34m)\u001b[0m\u001b[0;34m\u001b[0m\u001b[0;34m\u001b[0m\u001b[0m\n\u001b[1;32m     10\u001b[0m \u001b[0;34m\u001b[0m\u001b[0m\n\u001b[0;32m---> 11\u001b[0;31m \u001b[0mresponse\u001b[0m \u001b[0;34m=\u001b[0m \u001b[0mclient\u001b[0m\u001b[0;34m.\u001b[0m\u001b[0msearch\u001b[0m\u001b[0;34m(\u001b[0m\u001b[0mindex\u001b[0m\u001b[0;34m=\u001b[0m\u001b[0;34m\"newmus2019ctf\"\u001b[0m\u001b[0;34m,\u001b[0m \u001b[0mbody\u001b[0m\u001b[0;34m=\u001b[0m\u001b[0mquery\u001b[0m\u001b[0;34m,\u001b[0m \u001b[0msize\u001b[0m\u001b[0;34m=\u001b[0m\u001b[0;36m0\u001b[0m\u001b[0;34m)\u001b[0m\u001b[0;34m\u001b[0m\u001b[0;34m\u001b[0m\u001b[0m\n\u001b[0m\u001b[1;32m     12\u001b[0m \u001b[0;34m\u001b[0m\u001b[0m\n\u001b[1;32m     13\u001b[0m \u001b[0mprint_facets\u001b[0m\u001b[0;34m(\u001b[0m\u001b[0mresponse\u001b[0m\u001b[0;34m[\u001b[0m\u001b[0;34m'aggregations'\u001b[0m\u001b[0;34m]\u001b[0m\u001b[0;34m.\u001b[0m\u001b[0mitems\u001b[0m\u001b[0;34m(\u001b[0m\u001b[0;34m)\u001b[0m\u001b[0;34m)\u001b[0m\u001b[0;34m\u001b[0m\u001b[0;34m\u001b[0m\u001b[0m\n",
            "\u001b[0;32m/usr/lib/python3/dist-packages/opensearchpy/client/utils.py\u001b[0m in \u001b[0;36m_wrapped\u001b[0;34m(*args, **kwargs)\u001b[0m\n\u001b[1;32m    179\u001b[0m                         \u001b[0mparams\u001b[0m\u001b[0;34m[\u001b[0m\u001b[0mp\u001b[0m\u001b[0;34m]\u001b[0m \u001b[0;34m=\u001b[0m \u001b[0m_escape\u001b[0m\u001b[0;34m(\u001b[0m\u001b[0mv\u001b[0m\u001b[0;34m)\u001b[0m\u001b[0;34m\u001b[0m\u001b[0;34m\u001b[0m\u001b[0m\n\u001b[1;32m    180\u001b[0m \u001b[0;34m\u001b[0m\u001b[0m\n\u001b[0;32m--> 181\u001b[0;31m             \u001b[0;32mreturn\u001b[0m \u001b[0mfunc\u001b[0m\u001b[0;34m(\u001b[0m\u001b[0;34m*\u001b[0m\u001b[0margs\u001b[0m\u001b[0;34m,\u001b[0m \u001b[0mparams\u001b[0m\u001b[0;34m=\u001b[0m\u001b[0mparams\u001b[0m\u001b[0;34m,\u001b[0m \u001b[0mheaders\u001b[0m\u001b[0;34m=\u001b[0m\u001b[0mheaders\u001b[0m\u001b[0;34m,\u001b[0m \u001b[0;34m**\u001b[0m\u001b[0mkwargs\u001b[0m\u001b[0;34m)\u001b[0m\u001b[0;34m\u001b[0m\u001b[0;34m\u001b[0m\u001b[0m\n\u001b[0m\u001b[1;32m    182\u001b[0m \u001b[0;34m\u001b[0m\u001b[0m\n\u001b[1;32m    183\u001b[0m         \u001b[0;32mreturn\u001b[0m \u001b[0m_wrapped\u001b[0m\u001b[0;34m\u001b[0m\u001b[0;34m\u001b[0m\u001b[0m\n",
            "\u001b[0;32m/usr/lib/python3/dist-packages/opensearchpy/client/__init__.py\u001b[0m in \u001b[0;36msearch\u001b[0;34m(self, body, index, params, headers)\u001b[0m\n\u001b[1;32m   1740\u001b[0m             \u001b[0mparams\u001b[0m\u001b[0;34m[\u001b[0m\u001b[0;34m\"from\"\u001b[0m\u001b[0;34m]\u001b[0m \u001b[0;34m=\u001b[0m \u001b[0mparams\u001b[0m\u001b[0;34m.\u001b[0m\u001b[0mpop\u001b[0m\u001b[0;34m(\u001b[0m\u001b[0;34m\"from_\"\u001b[0m\u001b[0;34m)\u001b[0m\u001b[0;34m\u001b[0m\u001b[0;34m\u001b[0m\u001b[0m\n\u001b[1;32m   1741\u001b[0m \u001b[0;34m\u001b[0m\u001b[0m\n\u001b[0;32m-> 1742\u001b[0;31m         return self.transport.perform_request(\n\u001b[0m\u001b[1;32m   1743\u001b[0m             \u001b[0;34m\"POST\"\u001b[0m\u001b[0;34m,\u001b[0m\u001b[0;34m\u001b[0m\u001b[0;34m\u001b[0m\u001b[0m\n\u001b[1;32m   1744\u001b[0m             \u001b[0m_make_path\u001b[0m\u001b[0;34m(\u001b[0m\u001b[0mindex\u001b[0m\u001b[0;34m,\u001b[0m \u001b[0;34m\"_search\"\u001b[0m\u001b[0;34m)\u001b[0m\u001b[0;34m,\u001b[0m\u001b[0;34m\u001b[0m\u001b[0;34m\u001b[0m\u001b[0m\n",
            "\u001b[0;32m/usr/lib/python3/dist-packages/opensearchpy/transport.py\u001b[0m in \u001b[0;36mperform_request\u001b[0;34m(self, method, url, params, body, timeout, ignore, headers)\u001b[0m\n\u001b[1;32m    446\u001b[0m                         \u001b[0;32mraise\u001b[0m \u001b[0me\u001b[0m\u001b[0;34m\u001b[0m\u001b[0;34m\u001b[0m\u001b[0m\n\u001b[1;32m    447\u001b[0m                 \u001b[0;32melse\u001b[0m\u001b[0;34m:\u001b[0m\u001b[0;34m\u001b[0m\u001b[0;34m\u001b[0m\u001b[0m\n\u001b[0;32m--> 448\u001b[0;31m                     \u001b[0;32mraise\u001b[0m \u001b[0me\u001b[0m\u001b[0;34m\u001b[0m\u001b[0;34m\u001b[0m\u001b[0m\n\u001b[0m\u001b[1;32m    449\u001b[0m \u001b[0;34m\u001b[0m\u001b[0m\n\u001b[1;32m    450\u001b[0m             \u001b[0;32melse\u001b[0m\u001b[0;34m:\u001b[0m\u001b[0;34m\u001b[0m\u001b[0;34m\u001b[0m\u001b[0m\n",
            "\u001b[0;32m/usr/lib/python3/dist-packages/opensearchpy/transport.py\u001b[0m in \u001b[0;36mperform_request\u001b[0;34m(self, method, url, params, body, timeout, ignore, headers)\u001b[0m\n\u001b[1;32m    407\u001b[0m \u001b[0;34m\u001b[0m\u001b[0m\n\u001b[1;32m    408\u001b[0m             \u001b[0;32mtry\u001b[0m\u001b[0;34m:\u001b[0m\u001b[0;34m\u001b[0m\u001b[0;34m\u001b[0m\u001b[0m\n\u001b[0;32m--> 409\u001b[0;31m                 status, headers_response, data = connection.perform_request(\n\u001b[0m\u001b[1;32m    410\u001b[0m                     \u001b[0mmethod\u001b[0m\u001b[0;34m,\u001b[0m\u001b[0;34m\u001b[0m\u001b[0;34m\u001b[0m\u001b[0m\n\u001b[1;32m    411\u001b[0m                     \u001b[0murl\u001b[0m\u001b[0;34m,\u001b[0m\u001b[0;34m\u001b[0m\u001b[0;34m\u001b[0m\u001b[0m\n",
            "\u001b[0;32m/usr/lib/python3/dist-packages/opensearchpy/connection/http_urllib3.py\u001b[0m in \u001b[0;36mperform_request\u001b[0;34m(self, method, url, params, body, timeout, ignore, headers)\u001b[0m\n\u001b[1;32m    288\u001b[0m                 \u001b[0mmethod\u001b[0m\u001b[0;34m,\u001b[0m \u001b[0mfull_url\u001b[0m\u001b[0;34m,\u001b[0m \u001b[0murl\u001b[0m\u001b[0;34m,\u001b[0m \u001b[0morig_body\u001b[0m\u001b[0;34m,\u001b[0m \u001b[0mduration\u001b[0m\u001b[0;34m,\u001b[0m \u001b[0mresponse\u001b[0m\u001b[0;34m.\u001b[0m\u001b[0mstatus\u001b[0m\u001b[0;34m,\u001b[0m \u001b[0mraw_data\u001b[0m\u001b[0;34m\u001b[0m\u001b[0;34m\u001b[0m\u001b[0m\n\u001b[1;32m    289\u001b[0m             )\n\u001b[0;32m--> 290\u001b[0;31m             self._raise_error(\n\u001b[0m\u001b[1;32m    291\u001b[0m                 \u001b[0mresponse\u001b[0m\u001b[0;34m.\u001b[0m\u001b[0mstatus\u001b[0m\u001b[0;34m,\u001b[0m\u001b[0;34m\u001b[0m\u001b[0;34m\u001b[0m\u001b[0m\n\u001b[1;32m    292\u001b[0m                 \u001b[0mraw_data\u001b[0m\u001b[0;34m,\u001b[0m\u001b[0;34m\u001b[0m\u001b[0;34m\u001b[0m\u001b[0m\n",
            "\u001b[0;32m/usr/lib/python3/dist-packages/opensearchpy/connection/base.py\u001b[0m in \u001b[0;36m_raise_error\u001b[0;34m(self, status_code, raw_data, content_type)\u001b[0m\n\u001b[1;32m    314\u001b[0m             \u001b[0mlogger\u001b[0m\u001b[0;34m.\u001b[0m\u001b[0mwarning\u001b[0m\u001b[0;34m(\u001b[0m\u001b[0;34m\"Undecodable raw error response from server: %s\"\u001b[0m\u001b[0;34m,\u001b[0m \u001b[0merr\u001b[0m\u001b[0;34m)\u001b[0m\u001b[0;34m\u001b[0m\u001b[0;34m\u001b[0m\u001b[0m\n\u001b[1;32m    315\u001b[0m \u001b[0;34m\u001b[0m\u001b[0m\n\u001b[0;32m--> 316\u001b[0;31m         raise HTTP_EXCEPTIONS.get(status_code, TransportError)(\n\u001b[0m\u001b[1;32m    317\u001b[0m             \u001b[0mstatus_code\u001b[0m\u001b[0;34m,\u001b[0m \u001b[0merror_message\u001b[0m\u001b[0;34m,\u001b[0m \u001b[0madditional_info\u001b[0m\u001b[0;34m\u001b[0m\u001b[0;34m\u001b[0m\u001b[0m\n\u001b[1;32m    318\u001b[0m         )\n",
            "\u001b[0;31mRequestError\u001b[0m: RequestError(400, 'search_phase_execution_exception', 'Text fields are not optimised for operations that require per-document field data like aggregations and sorting, so these operations are disabled by default. Please use a keyword field instead. Alternatively, set fielddata=true on [file_size] in order to load field data by uninverting the inverted index. Note that this can use significant memory.')"
          ]
        }
      ]
    },
    {
      "cell_type": "code",
      "metadata": {
        "colab": {
          "base_uri": "https://localhost:8080/"
        },
        "id": "33SYhyCEybWw",
        "outputId": "18a1fd4c-0edb-4d06-9932-016224b26c10"
      },
      "source": [
        "# date range search\n",
        "\n",
        "query = '{\"query\": { \"query_string\": {\"query\": \"datetime:[2019-03-12 TO 2019-03-22]\"  }}}'\n",
        "\n",
        "print(query)\n",
        "response = client.search(index=\"newmus2019ctf\", body=query, size=10)\n",
        "print_results_detailed(response)\n"
      ],
      "execution_count": null,
      "outputs": [
        {
          "output_type": "stream",
          "name": "stdout",
          "text": [
            "{\"query\": { \"query_string\": {\"query\": \"datetime:[2019-03-12 TO 2019-03-22]\"  }}}\n",
            "\n",
            "---------------------------------------------------------------------------------------------------\n",
            "result numer:  0\n",
            "data_type windows:evtx:record\n",
            "computer_name DESKTOP-0QT8017\n",
            "event_identifier 100\n",
            "event_level 4\n",
            "event_version 0\n",
            "message_identifier 100\n",
            "offset 0\n",
            "provider_identifier {6bba3851-2c7e-4dea-8f54-31e5afd029e3}\n",
            "record_number 4679\n",
            "recovered False\n",
            "source_name Microsoft-Windows-Diagnosis-DPS\n",
            "strings ['{180B3A99-8C39-4F12-B631-2031998EFE45}', '{5AE2C742-1D4A-4568-A41A-73B87D7A808B}', '{00000000-0000-0000-0000-000000000000}', '%windir%\\\\system32\\\\radardt.dll', '{45DE1EA9-10BC-4F96-9B21-4B6B83DBF476}']\n",
            "user_sid S-1-5-19\n",
            "xml_string <Event xmlns=\"http://schemas.microsoft.com/win/2004/08/events/event\">\n",
            "  <System>\n",
            "    <Provider Name=\"Microsoft-Windows-Diagnosis-DPS\" Guid=\"{6BBA3851-2C7E-4DEA-8F54-31E5AFD029E3}\"/>\n",
            "    <EventID>100</EventID>\n",
            "    <Version>0</Version>\n",
            "    <Level>4</Level>\n",
            "    <Task>1</Task>\n",
            "    <Opcode>12</Opcode>\n",
            "    <Keywords>0x4000000800000000</Keywords>\n",
            "    <TimeCreated SystemTime=\"2019-03-12T00:00:06.714495300Z\"/>\n",
            "    <EventRecordID>4679</EventRecordID>\n",
            "    <Correlation ActivityID=\"{5AE2C742-1D4A-4568-A41A-73B87D7A808B}\"/>\n",
            "    <Execution ProcessID=\"2592\" ThreadID=\"7176\"/>\n",
            "    <Channel>Microsoft-Windows-Diagnosis-DPS/Operational</Channel>\n",
            "    <Computer>DESKTOP-0QT8017</Computer>\n",
            "    <Security UserID=\"S-1-5-19\"/>\n",
            "  </System>\n",
            "  <EventData>\n",
            "    <Data Name=\"ScenarioId\">{180B3A99-8C39-4F12-B631-2031998EFE45}</Data>\n",
            "    <Data Name=\"InstanceId\">{5AE2C742-1D4A-4568-A41A-73B87D7A808B}</Data>\n",
            "    <Data Name=\"OriginalActivityId\">{00000000-0000-0000-0000-000000000000}</Data>\n",
            "    <Data Name=\"DiagnosticModuleImageName\">%windir%\\system32\\radardt.dll</Data>\n",
            "    <Data Name=\"DiagnosticModuleId\">{45DE1EA9-10BC-4F96-9B21-4B6B83DBF476}</Data>\n",
            "  </EventData>\n",
            "</Event>\n",
            "\n",
            "path_spec {\"__type__\": \"PathSpec\", \"mft_entry\": 83752, \"mft_attribute\": 2, \"location\": \"\\\\Windows\\\\System32\\\\winevt\\\\Logs\\\\Microsoft-Windows-Diagnosis-DPS%4Operational.evtx\", \"parent\": {\"__type__\": \"PathSpec\", \"part_index\": 2, \"start_offset\": 576716800, \"location\": \"/p1\", \"parent\": {\"__type__\": \"PathSpec\", \"parent\": {\"__type__\": \"PathSpec\", \"location\": \"/content/gdrive/MyDrive/Images/Windows/MUS-CTF-19-DESKTOP-001.E01\", \"type_indicator\": \"OS\"}, \"type_indicator\": \"EWF\"}, \"type_indicator\": \"TSK_PARTITION\"}, \"type_indicator\": \"NTFS\"}\n",
            "sha256_hash 94786297c4496cad71447aa04498e17748a7efea3906c3e708c64dbff9d4c74b\n",
            "datetime 2019-03-12T00:00:06.714495+00:00\n",
            "display_name NTFS:\\Windows\\System32\\winevt\\Logs\\Microsoft-Windows-Diagnosis-DPS%4Operational.evtx\n",
            "message [100 / 0x0064] Provider identifier: {6bba3851-2c7e-4dea-8f54-31e5afd029e3} Source Name: Microsoft-Windows-Diagnosis-DPS Strings: ['{180B3A99-8C39-4F12-B631-2031998EFE45}', '{5AE2C742-1D4A-4568-A41A-73B87D7A808B}', '{00000000-0000-0000-0000-000000000000}', '%windir%\\\\system32\\\\radardt.dll', '{45DE1EA9-10BC-4F96-9B21-4B6B83DBF476}'] Computer Name: DESKTOP-0QT8017 Record Number: 4679 Event Level: 4\n",
            "source_long WinEVTX\n",
            "source_short EVT\n",
            "tag []\n",
            "timestamp 1552348806714495\n",
            "timestamp_desc Content Modification Time\n",
            "\n",
            "---------------------------------------------------------------------------------------------------\n",
            "result numer:  1\n",
            "data_type windows:evtx:record\n",
            "computer_name DESKTOP-0QT8017\n",
            "event_identifier 100\n",
            "event_level 4\n",
            "event_version 0\n",
            "message_identifier 100\n",
            "offset 0\n",
            "provider_identifier {6bba3851-2c7e-4dea-8f54-31e5afd029e3}\n",
            "record_number 4679\n",
            "recovered False\n",
            "source_name Microsoft-Windows-Diagnosis-DPS\n",
            "strings ['{180B3A99-8C39-4F12-B631-2031998EFE45}', '{5AE2C742-1D4A-4568-A41A-73B87D7A808B}', '{00000000-0000-0000-0000-000000000000}', '%windir%\\\\system32\\\\radardt.dll', '{45DE1EA9-10BC-4F96-9B21-4B6B83DBF476}']\n",
            "user_sid S-1-5-19\n",
            "xml_string <Event xmlns=\"http://schemas.microsoft.com/win/2004/08/events/event\">\n",
            "  <System>\n",
            "    <Provider Name=\"Microsoft-Windows-Diagnosis-DPS\" Guid=\"{6BBA3851-2C7E-4DEA-8F54-31E5AFD029E3}\"/>\n",
            "    <EventID>100</EventID>\n",
            "    <Version>0</Version>\n",
            "    <Level>4</Level>\n",
            "    <Task>1</Task>\n",
            "    <Opcode>12</Opcode>\n",
            "    <Keywords>0x4000000800000000</Keywords>\n",
            "    <TimeCreated SystemTime=\"2019-03-12T00:00:06.714495300Z\"/>\n",
            "    <EventRecordID>4679</EventRecordID>\n",
            "    <Correlation ActivityID=\"{5AE2C742-1D4A-4568-A41A-73B87D7A808B}\"/>\n",
            "    <Execution ProcessID=\"2592\" ThreadID=\"7176\"/>\n",
            "    <Channel>Microsoft-Windows-Diagnosis-DPS/Operational</Channel>\n",
            "    <Computer>DESKTOP-0QT8017</Computer>\n",
            "    <Security UserID=\"S-1-5-19\"/>\n",
            "  </System>\n",
            "  <EventData>\n",
            "    <Data Name=\"ScenarioId\">{180B3A99-8C39-4F12-B631-2031998EFE45}</Data>\n",
            "    <Data Name=\"InstanceId\">{5AE2C742-1D4A-4568-A41A-73B87D7A808B}</Data>\n",
            "    <Data Name=\"OriginalActivityId\">{00000000-0000-0000-0000-000000000000}</Data>\n",
            "    <Data Name=\"DiagnosticModuleImageName\">%windir%\\system32\\radardt.dll</Data>\n",
            "    <Data Name=\"DiagnosticModuleId\">{45DE1EA9-10BC-4F96-9B21-4B6B83DBF476}</Data>\n",
            "  </EventData>\n",
            "</Event>\n",
            "\n",
            "path_spec {\"__type__\": \"PathSpec\", \"mft_entry\": 83752, \"mft_attribute\": 2, \"location\": \"\\\\Windows\\\\System32\\\\winevt\\\\Logs\\\\Microsoft-Windows-Diagnosis-DPS%4Operational.evtx\", \"parent\": {\"__type__\": \"PathSpec\", \"part_index\": 2, \"start_offset\": 576716800, \"location\": \"/p1\", \"parent\": {\"__type__\": \"PathSpec\", \"parent\": {\"__type__\": \"PathSpec\", \"location\": \"/content/gdrive/MyDrive/Images/Windows/MUS-CTF-19-DESKTOP-001.E01\", \"type_indicator\": \"OS\"}, \"type_indicator\": \"EWF\"}, \"type_indicator\": \"TSK_PARTITION\"}, \"type_indicator\": \"NTFS\"}\n",
            "sha256_hash 94786297c4496cad71447aa04498e17748a7efea3906c3e708c64dbff9d4c74b\n",
            "datetime 2019-03-12T00:00:06.714495+00:00\n",
            "display_name NTFS:\\Windows\\System32\\winevt\\Logs\\Microsoft-Windows-Diagnosis-DPS%4Operational.evtx\n",
            "message [100 / 0x0064] Provider identifier: {6bba3851-2c7e-4dea-8f54-31e5afd029e3} Source Name: Microsoft-Windows-Diagnosis-DPS Strings: ['{180B3A99-8C39-4F12-B631-2031998EFE45}', '{5AE2C742-1D4A-4568-A41A-73B87D7A808B}', '{00000000-0000-0000-0000-000000000000}', '%windir%\\\\system32\\\\radardt.dll', '{45DE1EA9-10BC-4F96-9B21-4B6B83DBF476}'] Computer Name: DESKTOP-0QT8017 Record Number: 4679 Event Level: 4\n",
            "source_long WinEVTX\n",
            "source_short EVT\n",
            "tag []\n",
            "timestamp 1552348806714495\n",
            "timestamp_desc Creation Time\n",
            "\n",
            "---------------------------------------------------------------------------------------------------\n",
            "result numer:  2\n",
            "data_type windows:evtx:record\n",
            "computer_name DESKTOP-0QT8017\n",
            "event_identifier 105\n",
            "event_level 4\n",
            "event_version 0\n",
            "message_identifier 105\n",
            "offset 0\n",
            "provider_identifier {6bba3851-2c7e-4dea-8f54-31e5afd029e3}\n",
            "record_number 4680\n",
            "recovered False\n",
            "source_name Microsoft-Windows-Diagnosis-DPS\n",
            "strings ['{180B3A99-8C39-4F12-B631-2031998EFE45}', '{5AE2C742-1D4A-4568-A41A-73B87D7A808B}', '{00000000-0000-0000-0000-000000000000}', '%windir%\\\\system32\\\\radardt.dll', '{45DE1EA9-10BC-4F96-9B21-4B6B83DBF476}']\n",
            "user_sid S-1-5-19\n",
            "xml_string <Event xmlns=\"http://schemas.microsoft.com/win/2004/08/events/event\">\n",
            "  <System>\n",
            "    <Provider Name=\"Microsoft-Windows-Diagnosis-DPS\" Guid=\"{6BBA3851-2C7E-4DEA-8F54-31E5AFD029E3}\"/>\n",
            "    <EventID>105</EventID>\n",
            "    <Version>0</Version>\n",
            "    <Level>4</Level>\n",
            "    <Task>1</Task>\n",
            "    <Opcode>13</Opcode>\n",
            "    <Keywords>0x4000000800000000</Keywords>\n",
            "    <TimeCreated SystemTime=\"2019-03-12T00:00:06.714526100Z\"/>\n",
            "    <EventRecordID>4680</EventRecordID>\n",
            "    <Correlation ActivityID=\"{5AE2C742-1D4A-4568-A41A-73B87D7A808B}\"/>\n",
            "    <Execution ProcessID=\"2592\" ThreadID=\"7176\"/>\n",
            "    <Channel>Microsoft-Windows-Diagnosis-DPS/Operational</Channel>\n",
            "    <Computer>DESKTOP-0QT8017</Computer>\n",
            "    <Security UserID=\"S-1-5-19\"/>\n",
            "  </System>\n",
            "  <EventData>\n",
            "    <Data Name=\"ScenarioId\">{180B3A99-8C39-4F12-B631-2031998EFE45}</Data>\n",
            "    <Data Name=\"InstanceId\">{5AE2C742-1D4A-4568-A41A-73B87D7A808B}</Data>\n",
            "    <Data Name=\"OriginalActivityId\">{00000000-0000-0000-0000-000000000000}</Data>\n",
            "    <Data Name=\"DiagnosticModuleImageName\">%windir%\\system32\\radardt.dll</Data>\n",
            "    <Data Name=\"DiagnosticModuleId\">{45DE1EA9-10BC-4F96-9B21-4B6B83DBF476}</Data>\n",
            "  </EventData>\n",
            "</Event>\n",
            "\n",
            "path_spec {\"__type__\": \"PathSpec\", \"mft_entry\": 83752, \"mft_attribute\": 2, \"location\": \"\\\\Windows\\\\System32\\\\winevt\\\\Logs\\\\Microsoft-Windows-Diagnosis-DPS%4Operational.evtx\", \"parent\": {\"__type__\": \"PathSpec\", \"part_index\": 2, \"start_offset\": 576716800, \"location\": \"/p1\", \"parent\": {\"__type__\": \"PathSpec\", \"parent\": {\"__type__\": \"PathSpec\", \"location\": \"/content/gdrive/MyDrive/Images/Windows/MUS-CTF-19-DESKTOP-001.E01\", \"type_indicator\": \"OS\"}, \"type_indicator\": \"EWF\"}, \"type_indicator\": \"TSK_PARTITION\"}, \"type_indicator\": \"NTFS\"}\n",
            "sha256_hash 94786297c4496cad71447aa04498e17748a7efea3906c3e708c64dbff9d4c74b\n",
            "datetime 2019-03-12T00:00:06.714526+00:00\n",
            "display_name NTFS:\\Windows\\System32\\winevt\\Logs\\Microsoft-Windows-Diagnosis-DPS%4Operational.evtx\n",
            "message [105 / 0x0069] Provider identifier: {6bba3851-2c7e-4dea-8f54-31e5afd029e3} Source Name: Microsoft-Windows-Diagnosis-DPS Strings: ['{180B3A99-8C39-4F12-B631-2031998EFE45}', '{5AE2C742-1D4A-4568-A41A-73B87D7A808B}', '{00000000-0000-0000-0000-000000000000}', '%windir%\\\\system32\\\\radardt.dll', '{45DE1EA9-10BC-4F96-9B21-4B6B83DBF476}'] Computer Name: DESKTOP-0QT8017 Record Number: 4680 Event Level: 4\n",
            "source_long WinEVTX\n",
            "source_short EVT\n",
            "tag []\n",
            "timestamp 1552348806714526\n",
            "timestamp_desc Content Modification Time\n",
            "\n",
            "---------------------------------------------------------------------------------------------------\n",
            "result numer:  3\n",
            "data_type windows:evtx:record\n",
            "computer_name DESKTOP-0QT8017\n",
            "event_identifier 105\n",
            "event_level 4\n",
            "event_version 0\n",
            "message_identifier 105\n",
            "offset 0\n",
            "provider_identifier {6bba3851-2c7e-4dea-8f54-31e5afd029e3}\n",
            "record_number 4680\n",
            "recovered False\n",
            "source_name Microsoft-Windows-Diagnosis-DPS\n",
            "strings ['{180B3A99-8C39-4F12-B631-2031998EFE45}', '{5AE2C742-1D4A-4568-A41A-73B87D7A808B}', '{00000000-0000-0000-0000-000000000000}', '%windir%\\\\system32\\\\radardt.dll', '{45DE1EA9-10BC-4F96-9B21-4B6B83DBF476}']\n",
            "user_sid S-1-5-19\n",
            "xml_string <Event xmlns=\"http://schemas.microsoft.com/win/2004/08/events/event\">\n",
            "  <System>\n",
            "    <Provider Name=\"Microsoft-Windows-Diagnosis-DPS\" Guid=\"{6BBA3851-2C7E-4DEA-8F54-31E5AFD029E3}\"/>\n",
            "    <EventID>105</EventID>\n",
            "    <Version>0</Version>\n",
            "    <Level>4</Level>\n",
            "    <Task>1</Task>\n",
            "    <Opcode>13</Opcode>\n",
            "    <Keywords>0x4000000800000000</Keywords>\n",
            "    <TimeCreated SystemTime=\"2019-03-12T00:00:06.714526100Z\"/>\n",
            "    <EventRecordID>4680</EventRecordID>\n",
            "    <Correlation ActivityID=\"{5AE2C742-1D4A-4568-A41A-73B87D7A808B}\"/>\n",
            "    <Execution ProcessID=\"2592\" ThreadID=\"7176\"/>\n",
            "    <Channel>Microsoft-Windows-Diagnosis-DPS/Operational</Channel>\n",
            "    <Computer>DESKTOP-0QT8017</Computer>\n",
            "    <Security UserID=\"S-1-5-19\"/>\n",
            "  </System>\n",
            "  <EventData>\n",
            "    <Data Name=\"ScenarioId\">{180B3A99-8C39-4F12-B631-2031998EFE45}</Data>\n",
            "    <Data Name=\"InstanceId\">{5AE2C742-1D4A-4568-A41A-73B87D7A808B}</Data>\n",
            "    <Data Name=\"OriginalActivityId\">{00000000-0000-0000-0000-000000000000}</Data>\n",
            "    <Data Name=\"DiagnosticModuleImageName\">%windir%\\system32\\radardt.dll</Data>\n",
            "    <Data Name=\"DiagnosticModuleId\">{45DE1EA9-10BC-4F96-9B21-4B6B83DBF476}</Data>\n",
            "  </EventData>\n",
            "</Event>\n",
            "\n",
            "path_spec {\"__type__\": \"PathSpec\", \"mft_entry\": 83752, \"mft_attribute\": 2, \"location\": \"\\\\Windows\\\\System32\\\\winevt\\\\Logs\\\\Microsoft-Windows-Diagnosis-DPS%4Operational.evtx\", \"parent\": {\"__type__\": \"PathSpec\", \"part_index\": 2, \"start_offset\": 576716800, \"location\": \"/p1\", \"parent\": {\"__type__\": \"PathSpec\", \"parent\": {\"__type__\": \"PathSpec\", \"location\": \"/content/gdrive/MyDrive/Images/Windows/MUS-CTF-19-DESKTOP-001.E01\", \"type_indicator\": \"OS\"}, \"type_indicator\": \"EWF\"}, \"type_indicator\": \"TSK_PARTITION\"}, \"type_indicator\": \"NTFS\"}\n",
            "sha256_hash 94786297c4496cad71447aa04498e17748a7efea3906c3e708c64dbff9d4c74b\n",
            "datetime 2019-03-12T00:00:06.714526+00:00\n",
            "display_name NTFS:\\Windows\\System32\\winevt\\Logs\\Microsoft-Windows-Diagnosis-DPS%4Operational.evtx\n",
            "message [105 / 0x0069] Provider identifier: {6bba3851-2c7e-4dea-8f54-31e5afd029e3} Source Name: Microsoft-Windows-Diagnosis-DPS Strings: ['{180B3A99-8C39-4F12-B631-2031998EFE45}', '{5AE2C742-1D4A-4568-A41A-73B87D7A808B}', '{00000000-0000-0000-0000-000000000000}', '%windir%\\\\system32\\\\radardt.dll', '{45DE1EA9-10BC-4F96-9B21-4B6B83DBF476}'] Computer Name: DESKTOP-0QT8017 Record Number: 4680 Event Level: 4\n",
            "source_long WinEVTX\n",
            "source_short EVT\n",
            "tag []\n",
            "timestamp 1552348806714526\n",
            "timestamp_desc Creation Time\n",
            "\n",
            "---------------------------------------------------------------------------------------------------\n",
            "result numer:  4\n",
            "data_type windows:evtx:record\n",
            "computer_name DESKTOP-0QT8017\n",
            "event_identifier 100\n",
            "event_level 4\n",
            "event_version 0\n",
            "message_identifier 100\n",
            "offset 0\n",
            "provider_identifier {6bba3851-2c7e-4dea-8f54-31e5afd029e3}\n",
            "record_number 4681\n",
            "recovered False\n",
            "source_name Microsoft-Windows-Diagnosis-DPS\n",
            "strings ['{180B3A99-8C39-4F12-B631-2031998EFE45}', '{45492767-8ED6-4A3E-9B20-11C4B96A38EC}', '{00000000-0000-0000-0000-000000000000}', '%windir%\\\\system32\\\\radardt.dll', '{45DE1EA9-10BC-4F96-9B21-4B6B83DBF476}']\n",
            "user_sid S-1-5-19\n",
            "xml_string <Event xmlns=\"http://schemas.microsoft.com/win/2004/08/events/event\">\n",
            "  <System>\n",
            "    <Provider Name=\"Microsoft-Windows-Diagnosis-DPS\" Guid=\"{6BBA3851-2C7E-4DEA-8F54-31E5AFD029E3}\"/>\n",
            "    <EventID>100</EventID>\n",
            "    <Version>0</Version>\n",
            "    <Level>4</Level>\n",
            "    <Task>1</Task>\n",
            "    <Opcode>12</Opcode>\n",
            "    <Keywords>0x4000000800000000</Keywords>\n",
            "    <TimeCreated SystemTime=\"2019-03-12T00:05:06.718384300Z\"/>\n",
            "    <EventRecordID>4681</EventRecordID>\n",
            "    <Correlation ActivityID=\"{45492767-8ED6-4A3E-9B20-11C4B96A38EC}\"/>\n",
            "    <Execution ProcessID=\"2592\" ThreadID=\"12032\"/>\n",
            "    <Channel>Microsoft-Windows-Diagnosis-DPS/Operational</Channel>\n",
            "    <Computer>DESKTOP-0QT8017</Computer>\n",
            "    <Security UserID=\"S-1-5-19\"/>\n",
            "  </System>\n",
            "  <EventData>\n",
            "    <Data Name=\"ScenarioId\">{180B3A99-8C39-4F12-B631-2031998EFE45}</Data>\n",
            "    <Data Name=\"InstanceId\">{45492767-8ED6-4A3E-9B20-11C4B96A38EC}</Data>\n",
            "    <Data Name=\"OriginalActivityId\">{00000000-0000-0000-0000-000000000000}</Data>\n",
            "    <Data Name=\"DiagnosticModuleImageName\">%windir%\\system32\\radardt.dll</Data>\n",
            "    <Data Name=\"DiagnosticModuleId\">{45DE1EA9-10BC-4F96-9B21-4B6B83DBF476}</Data>\n",
            "  </EventData>\n",
            "</Event>\n",
            "\n",
            "path_spec {\"__type__\": \"PathSpec\", \"mft_entry\": 83752, \"mft_attribute\": 2, \"location\": \"\\\\Windows\\\\System32\\\\winevt\\\\Logs\\\\Microsoft-Windows-Diagnosis-DPS%4Operational.evtx\", \"parent\": {\"__type__\": \"PathSpec\", \"part_index\": 2, \"start_offset\": 576716800, \"location\": \"/p1\", \"parent\": {\"__type__\": \"PathSpec\", \"parent\": {\"__type__\": \"PathSpec\", \"location\": \"/content/gdrive/MyDrive/Images/Windows/MUS-CTF-19-DESKTOP-001.E01\", \"type_indicator\": \"OS\"}, \"type_indicator\": \"EWF\"}, \"type_indicator\": \"TSK_PARTITION\"}, \"type_indicator\": \"NTFS\"}\n",
            "sha256_hash 94786297c4496cad71447aa04498e17748a7efea3906c3e708c64dbff9d4c74b\n",
            "datetime 2019-03-12T00:05:06.718384+00:00\n",
            "display_name NTFS:\\Windows\\System32\\winevt\\Logs\\Microsoft-Windows-Diagnosis-DPS%4Operational.evtx\n",
            "message [100 / 0x0064] Provider identifier: {6bba3851-2c7e-4dea-8f54-31e5afd029e3} Source Name: Microsoft-Windows-Diagnosis-DPS Strings: ['{180B3A99-8C39-4F12-B631-2031998EFE45}', '{45492767-8ED6-4A3E-9B20-11C4B96A38EC}', '{00000000-0000-0000-0000-000000000000}', '%windir%\\\\system32\\\\radardt.dll', '{45DE1EA9-10BC-4F96-9B21-4B6B83DBF476}'] Computer Name: DESKTOP-0QT8017 Record Number: 4681 Event Level: 4\n",
            "source_long WinEVTX\n",
            "source_short EVT\n",
            "tag []\n",
            "timestamp 1552349106718384\n",
            "timestamp_desc Content Modification Time\n",
            "\n",
            "---------------------------------------------------------------------------------------------------\n",
            "result numer:  5\n",
            "data_type windows:evtx:record\n",
            "computer_name DESKTOP-0QT8017\n",
            "event_identifier 100\n",
            "event_level 4\n",
            "event_version 0\n",
            "message_identifier 100\n",
            "offset 0\n",
            "provider_identifier {6bba3851-2c7e-4dea-8f54-31e5afd029e3}\n",
            "record_number 4681\n",
            "recovered False\n",
            "source_name Microsoft-Windows-Diagnosis-DPS\n",
            "strings ['{180B3A99-8C39-4F12-B631-2031998EFE45}', '{45492767-8ED6-4A3E-9B20-11C4B96A38EC}', '{00000000-0000-0000-0000-000000000000}', '%windir%\\\\system32\\\\radardt.dll', '{45DE1EA9-10BC-4F96-9B21-4B6B83DBF476}']\n",
            "user_sid S-1-5-19\n",
            "xml_string <Event xmlns=\"http://schemas.microsoft.com/win/2004/08/events/event\">\n",
            "  <System>\n",
            "    <Provider Name=\"Microsoft-Windows-Diagnosis-DPS\" Guid=\"{6BBA3851-2C7E-4DEA-8F54-31E5AFD029E3}\"/>\n",
            "    <EventID>100</EventID>\n",
            "    <Version>0</Version>\n",
            "    <Level>4</Level>\n",
            "    <Task>1</Task>\n",
            "    <Opcode>12</Opcode>\n",
            "    <Keywords>0x4000000800000000</Keywords>\n",
            "    <TimeCreated SystemTime=\"2019-03-12T00:05:06.718384300Z\"/>\n",
            "    <EventRecordID>4681</EventRecordID>\n",
            "    <Correlation ActivityID=\"{45492767-8ED6-4A3E-9B20-11C4B96A38EC}\"/>\n",
            "    <Execution ProcessID=\"2592\" ThreadID=\"12032\"/>\n",
            "    <Channel>Microsoft-Windows-Diagnosis-DPS/Operational</Channel>\n",
            "    <Computer>DESKTOP-0QT8017</Computer>\n",
            "    <Security UserID=\"S-1-5-19\"/>\n",
            "  </System>\n",
            "  <EventData>\n",
            "    <Data Name=\"ScenarioId\">{180B3A99-8C39-4F12-B631-2031998EFE45}</Data>\n",
            "    <Data Name=\"InstanceId\">{45492767-8ED6-4A3E-9B20-11C4B96A38EC}</Data>\n",
            "    <Data Name=\"OriginalActivityId\">{00000000-0000-0000-0000-000000000000}</Data>\n",
            "    <Data Name=\"DiagnosticModuleImageName\">%windir%\\system32\\radardt.dll</Data>\n",
            "    <Data Name=\"DiagnosticModuleId\">{45DE1EA9-10BC-4F96-9B21-4B6B83DBF476}</Data>\n",
            "  </EventData>\n",
            "</Event>\n",
            "\n",
            "path_spec {\"__type__\": \"PathSpec\", \"mft_entry\": 83752, \"mft_attribute\": 2, \"location\": \"\\\\Windows\\\\System32\\\\winevt\\\\Logs\\\\Microsoft-Windows-Diagnosis-DPS%4Operational.evtx\", \"parent\": {\"__type__\": \"PathSpec\", \"part_index\": 2, \"start_offset\": 576716800, \"location\": \"/p1\", \"parent\": {\"__type__\": \"PathSpec\", \"parent\": {\"__type__\": \"PathSpec\", \"location\": \"/content/gdrive/MyDrive/Images/Windows/MUS-CTF-19-DESKTOP-001.E01\", \"type_indicator\": \"OS\"}, \"type_indicator\": \"EWF\"}, \"type_indicator\": \"TSK_PARTITION\"}, \"type_indicator\": \"NTFS\"}\n",
            "sha256_hash 94786297c4496cad71447aa04498e17748a7efea3906c3e708c64dbff9d4c74b\n",
            "datetime 2019-03-12T00:05:06.718384+00:00\n",
            "display_name NTFS:\\Windows\\System32\\winevt\\Logs\\Microsoft-Windows-Diagnosis-DPS%4Operational.evtx\n",
            "message [100 / 0x0064] Provider identifier: {6bba3851-2c7e-4dea-8f54-31e5afd029e3} Source Name: Microsoft-Windows-Diagnosis-DPS Strings: ['{180B3A99-8C39-4F12-B631-2031998EFE45}', '{45492767-8ED6-4A3E-9B20-11C4B96A38EC}', '{00000000-0000-0000-0000-000000000000}', '%windir%\\\\system32\\\\radardt.dll', '{45DE1EA9-10BC-4F96-9B21-4B6B83DBF476}'] Computer Name: DESKTOP-0QT8017 Record Number: 4681 Event Level: 4\n",
            "source_long WinEVTX\n",
            "source_short EVT\n",
            "tag []\n",
            "timestamp 1552349106718384\n",
            "timestamp_desc Creation Time\n",
            "\n",
            "---------------------------------------------------------------------------------------------------\n",
            "result numer:  6\n",
            "data_type windows:evtx:record\n",
            "computer_name DESKTOP-0QT8017\n",
            "event_identifier 105\n",
            "event_level 4\n",
            "event_version 0\n",
            "message_identifier 105\n",
            "offset 0\n",
            "provider_identifier {6bba3851-2c7e-4dea-8f54-31e5afd029e3}\n",
            "record_number 4682\n",
            "recovered False\n",
            "source_name Microsoft-Windows-Diagnosis-DPS\n",
            "strings ['{180B3A99-8C39-4F12-B631-2031998EFE45}', '{45492767-8ED6-4A3E-9B20-11C4B96A38EC}', '{00000000-0000-0000-0000-000000000000}', '%windir%\\\\system32\\\\radardt.dll', '{45DE1EA9-10BC-4F96-9B21-4B6B83DBF476}']\n",
            "user_sid S-1-5-19\n",
            "xml_string <Event xmlns=\"http://schemas.microsoft.com/win/2004/08/events/event\">\n",
            "  <System>\n",
            "    <Provider Name=\"Microsoft-Windows-Diagnosis-DPS\" Guid=\"{6BBA3851-2C7E-4DEA-8F54-31E5AFD029E3}\"/>\n",
            "    <EventID>105</EventID>\n",
            "    <Version>0</Version>\n",
            "    <Level>4</Level>\n",
            "    <Task>1</Task>\n",
            "    <Opcode>13</Opcode>\n",
            "    <Keywords>0x4000000800000000</Keywords>\n",
            "    <TimeCreated SystemTime=\"2019-03-12T00:05:06.718410300Z\"/>\n",
            "    <EventRecordID>4682</EventRecordID>\n",
            "    <Correlation ActivityID=\"{45492767-8ED6-4A3E-9B20-11C4B96A38EC}\"/>\n",
            "    <Execution ProcessID=\"2592\" ThreadID=\"12032\"/>\n",
            "    <Channel>Microsoft-Windows-Diagnosis-DPS/Operational</Channel>\n",
            "    <Computer>DESKTOP-0QT8017</Computer>\n",
            "    <Security UserID=\"S-1-5-19\"/>\n",
            "  </System>\n",
            "  <EventData>\n",
            "    <Data Name=\"ScenarioId\">{180B3A99-8C39-4F12-B631-2031998EFE45}</Data>\n",
            "    <Data Name=\"InstanceId\">{45492767-8ED6-4A3E-9B20-11C4B96A38EC}</Data>\n",
            "    <Data Name=\"OriginalActivityId\">{00000000-0000-0000-0000-000000000000}</Data>\n",
            "    <Data Name=\"DiagnosticModuleImageName\">%windir%\\system32\\radardt.dll</Data>\n",
            "    <Data Name=\"DiagnosticModuleId\">{45DE1EA9-10BC-4F96-9B21-4B6B83DBF476}</Data>\n",
            "  </EventData>\n",
            "</Event>\n",
            "\n",
            "path_spec {\"__type__\": \"PathSpec\", \"mft_entry\": 83752, \"mft_attribute\": 2, \"location\": \"\\\\Windows\\\\System32\\\\winevt\\\\Logs\\\\Microsoft-Windows-Diagnosis-DPS%4Operational.evtx\", \"parent\": {\"__type__\": \"PathSpec\", \"part_index\": 2, \"start_offset\": 576716800, \"location\": \"/p1\", \"parent\": {\"__type__\": \"PathSpec\", \"parent\": {\"__type__\": \"PathSpec\", \"location\": \"/content/gdrive/MyDrive/Images/Windows/MUS-CTF-19-DESKTOP-001.E01\", \"type_indicator\": \"OS\"}, \"type_indicator\": \"EWF\"}, \"type_indicator\": \"TSK_PARTITION\"}, \"type_indicator\": \"NTFS\"}\n",
            "sha256_hash 94786297c4496cad71447aa04498e17748a7efea3906c3e708c64dbff9d4c74b\n",
            "datetime 2019-03-12T00:05:06.718410+00:00\n",
            "display_name NTFS:\\Windows\\System32\\winevt\\Logs\\Microsoft-Windows-Diagnosis-DPS%4Operational.evtx\n",
            "message [105 / 0x0069] Provider identifier: {6bba3851-2c7e-4dea-8f54-31e5afd029e3} Source Name: Microsoft-Windows-Diagnosis-DPS Strings: ['{180B3A99-8C39-4F12-B631-2031998EFE45}', '{45492767-8ED6-4A3E-9B20-11C4B96A38EC}', '{00000000-0000-0000-0000-000000000000}', '%windir%\\\\system32\\\\radardt.dll', '{45DE1EA9-10BC-4F96-9B21-4B6B83DBF476}'] Computer Name: DESKTOP-0QT8017 Record Number: 4682 Event Level: 4\n",
            "source_long WinEVTX\n",
            "source_short EVT\n",
            "tag []\n",
            "timestamp 1552349106718410\n",
            "timestamp_desc Content Modification Time\n",
            "\n",
            "---------------------------------------------------------------------------------------------------\n",
            "result numer:  7\n",
            "data_type windows:evtx:record\n",
            "computer_name DESKTOP-0QT8017\n",
            "event_identifier 105\n",
            "event_level 4\n",
            "event_version 0\n",
            "message_identifier 105\n",
            "offset 0\n",
            "provider_identifier {6bba3851-2c7e-4dea-8f54-31e5afd029e3}\n",
            "record_number 4682\n",
            "recovered False\n",
            "source_name Microsoft-Windows-Diagnosis-DPS\n",
            "strings ['{180B3A99-8C39-4F12-B631-2031998EFE45}', '{45492767-8ED6-4A3E-9B20-11C4B96A38EC}', '{00000000-0000-0000-0000-000000000000}', '%windir%\\\\system32\\\\radardt.dll', '{45DE1EA9-10BC-4F96-9B21-4B6B83DBF476}']\n",
            "user_sid S-1-5-19\n",
            "xml_string <Event xmlns=\"http://schemas.microsoft.com/win/2004/08/events/event\">\n",
            "  <System>\n",
            "    <Provider Name=\"Microsoft-Windows-Diagnosis-DPS\" Guid=\"{6BBA3851-2C7E-4DEA-8F54-31E5AFD029E3}\"/>\n",
            "    <EventID>105</EventID>\n",
            "    <Version>0</Version>\n",
            "    <Level>4</Level>\n",
            "    <Task>1</Task>\n",
            "    <Opcode>13</Opcode>\n",
            "    <Keywords>0x4000000800000000</Keywords>\n",
            "    <TimeCreated SystemTime=\"2019-03-12T00:05:06.718410300Z\"/>\n",
            "    <EventRecordID>4682</EventRecordID>\n",
            "    <Correlation ActivityID=\"{45492767-8ED6-4A3E-9B20-11C4B96A38EC}\"/>\n",
            "    <Execution ProcessID=\"2592\" ThreadID=\"12032\"/>\n",
            "    <Channel>Microsoft-Windows-Diagnosis-DPS/Operational</Channel>\n",
            "    <Computer>DESKTOP-0QT8017</Computer>\n",
            "    <Security UserID=\"S-1-5-19\"/>\n",
            "  </System>\n",
            "  <EventData>\n",
            "    <Data Name=\"ScenarioId\">{180B3A99-8C39-4F12-B631-2031998EFE45}</Data>\n",
            "    <Data Name=\"InstanceId\">{45492767-8ED6-4A3E-9B20-11C4B96A38EC}</Data>\n",
            "    <Data Name=\"OriginalActivityId\">{00000000-0000-0000-0000-000000000000}</Data>\n",
            "    <Data Name=\"DiagnosticModuleImageName\">%windir%\\system32\\radardt.dll</Data>\n",
            "    <Data Name=\"DiagnosticModuleId\">{45DE1EA9-10BC-4F96-9B21-4B6B83DBF476}</Data>\n",
            "  </EventData>\n",
            "</Event>\n",
            "\n",
            "path_spec {\"__type__\": \"PathSpec\", \"mft_entry\": 83752, \"mft_attribute\": 2, \"location\": \"\\\\Windows\\\\System32\\\\winevt\\\\Logs\\\\Microsoft-Windows-Diagnosis-DPS%4Operational.evtx\", \"parent\": {\"__type__\": \"PathSpec\", \"part_index\": 2, \"start_offset\": 576716800, \"location\": \"/p1\", \"parent\": {\"__type__\": \"PathSpec\", \"parent\": {\"__type__\": \"PathSpec\", \"location\": \"/content/gdrive/MyDrive/Images/Windows/MUS-CTF-19-DESKTOP-001.E01\", \"type_indicator\": \"OS\"}, \"type_indicator\": \"EWF\"}, \"type_indicator\": \"TSK_PARTITION\"}, \"type_indicator\": \"NTFS\"}\n",
            "sha256_hash 94786297c4496cad71447aa04498e17748a7efea3906c3e708c64dbff9d4c74b\n",
            "datetime 2019-03-12T00:05:06.718410+00:00\n",
            "display_name NTFS:\\Windows\\System32\\winevt\\Logs\\Microsoft-Windows-Diagnosis-DPS%4Operational.evtx\n",
            "message [105 / 0x0069] Provider identifier: {6bba3851-2c7e-4dea-8f54-31e5afd029e3} Source Name: Microsoft-Windows-Diagnosis-DPS Strings: ['{180B3A99-8C39-4F12-B631-2031998EFE45}', '{45492767-8ED6-4A3E-9B20-11C4B96A38EC}', '{00000000-0000-0000-0000-000000000000}', '%windir%\\\\system32\\\\radardt.dll', '{45DE1EA9-10BC-4F96-9B21-4B6B83DBF476}'] Computer Name: DESKTOP-0QT8017 Record Number: 4682 Event Level: 4\n",
            "source_long WinEVTX\n",
            "source_short EVT\n",
            "tag []\n",
            "timestamp 1552349106718410\n",
            "timestamp_desc Creation Time\n",
            "\n",
            "---------------------------------------------------------------------------------------------------\n",
            "result numer:  8\n",
            "data_type windows:evtx:record\n",
            "computer_name DESKTOP-0QT8017\n",
            "event_identifier 100\n",
            "event_level 4\n",
            "event_version 0\n",
            "message_identifier 100\n",
            "offset 0\n",
            "provider_identifier {6bba3851-2c7e-4dea-8f54-31e5afd029e3}\n",
            "record_number 4683\n",
            "recovered False\n",
            "source_name Microsoft-Windows-Diagnosis-DPS\n",
            "strings ['{180B3A99-8C39-4F12-B631-2031998EFE45}', '{52F8D487-5472-4809-AF48-E9A593EBAD80}', '{00000000-0000-0000-0000-000000000000}', '%windir%\\\\system32\\\\radardt.dll', '{45DE1EA9-10BC-4F96-9B21-4B6B83DBF476}']\n",
            "user_sid S-1-5-19\n",
            "xml_string <Event xmlns=\"http://schemas.microsoft.com/win/2004/08/events/event\">\n",
            "  <System>\n",
            "    <Provider Name=\"Microsoft-Windows-Diagnosis-DPS\" Guid=\"{6BBA3851-2C7E-4DEA-8F54-31E5AFD029E3}\"/>\n",
            "    <EventID>100</EventID>\n",
            "    <Version>0</Version>\n",
            "    <Level>4</Level>\n",
            "    <Task>1</Task>\n",
            "    <Opcode>12</Opcode>\n",
            "    <Keywords>0x4000000800000000</Keywords>\n",
            "    <TimeCreated SystemTime=\"2019-03-12T00:10:06.728932900Z\"/>\n",
            "    <EventRecordID>4683</EventRecordID>\n",
            "    <Correlation ActivityID=\"{52F8D487-5472-4809-AF48-E9A593EBAD80}\"/>\n",
            "    <Execution ProcessID=\"2592\" ThreadID=\"2392\"/>\n",
            "    <Channel>Microsoft-Windows-Diagnosis-DPS/Operational</Channel>\n",
            "    <Computer>DESKTOP-0QT8017</Computer>\n",
            "    <Security UserID=\"S-1-5-19\"/>\n",
            "  </System>\n",
            "  <EventData>\n",
            "    <Data Name=\"ScenarioId\">{180B3A99-8C39-4F12-B631-2031998EFE45}</Data>\n",
            "    <Data Name=\"InstanceId\">{52F8D487-5472-4809-AF48-E9A593EBAD80}</Data>\n",
            "    <Data Name=\"OriginalActivityId\">{00000000-0000-0000-0000-000000000000}</Data>\n",
            "    <Data Name=\"DiagnosticModuleImageName\">%windir%\\system32\\radardt.dll</Data>\n",
            "    <Data Name=\"DiagnosticModuleId\">{45DE1EA9-10BC-4F96-9B21-4B6B83DBF476}</Data>\n",
            "  </EventData>\n",
            "</Event>\n",
            "\n",
            "path_spec {\"__type__\": \"PathSpec\", \"mft_entry\": 83752, \"mft_attribute\": 2, \"location\": \"\\\\Windows\\\\System32\\\\winevt\\\\Logs\\\\Microsoft-Windows-Diagnosis-DPS%4Operational.evtx\", \"parent\": {\"__type__\": \"PathSpec\", \"part_index\": 2, \"start_offset\": 576716800, \"location\": \"/p1\", \"parent\": {\"__type__\": \"PathSpec\", \"parent\": {\"__type__\": \"PathSpec\", \"location\": \"/content/gdrive/MyDrive/Images/Windows/MUS-CTF-19-DESKTOP-001.E01\", \"type_indicator\": \"OS\"}, \"type_indicator\": \"EWF\"}, \"type_indicator\": \"TSK_PARTITION\"}, \"type_indicator\": \"NTFS\"}\n",
            "sha256_hash 94786297c4496cad71447aa04498e17748a7efea3906c3e708c64dbff9d4c74b\n",
            "datetime 2019-03-12T00:10:06.728933+00:00\n",
            "display_name NTFS:\\Windows\\System32\\winevt\\Logs\\Microsoft-Windows-Diagnosis-DPS%4Operational.evtx\n",
            "message [100 / 0x0064] Provider identifier: {6bba3851-2c7e-4dea-8f54-31e5afd029e3} Source Name: Microsoft-Windows-Diagnosis-DPS Strings: ['{180B3A99-8C39-4F12-B631-2031998EFE45}', '{52F8D487-5472-4809-AF48-E9A593EBAD80}', '{00000000-0000-0000-0000-000000000000}', '%windir%\\\\system32\\\\radardt.dll', '{45DE1EA9-10BC-4F96-9B21-4B6B83DBF476}'] Computer Name: DESKTOP-0QT8017 Record Number: 4683 Event Level: 4\n",
            "source_long WinEVTX\n",
            "source_short EVT\n",
            "tag []\n",
            "timestamp 1552349406728933\n",
            "timestamp_desc Content Modification Time\n",
            "\n",
            "---------------------------------------------------------------------------------------------------\n",
            "result numer:  9\n",
            "data_type windows:evtx:record\n",
            "computer_name DESKTOP-0QT8017\n",
            "event_identifier 100\n",
            "event_level 4\n",
            "event_version 0\n",
            "message_identifier 100\n",
            "offset 0\n",
            "provider_identifier {6bba3851-2c7e-4dea-8f54-31e5afd029e3}\n",
            "record_number 4683\n",
            "recovered False\n",
            "source_name Microsoft-Windows-Diagnosis-DPS\n",
            "strings ['{180B3A99-8C39-4F12-B631-2031998EFE45}', '{52F8D487-5472-4809-AF48-E9A593EBAD80}', '{00000000-0000-0000-0000-000000000000}', '%windir%\\\\system32\\\\radardt.dll', '{45DE1EA9-10BC-4F96-9B21-4B6B83DBF476}']\n",
            "user_sid S-1-5-19\n",
            "xml_string <Event xmlns=\"http://schemas.microsoft.com/win/2004/08/events/event\">\n",
            "  <System>\n",
            "    <Provider Name=\"Microsoft-Windows-Diagnosis-DPS\" Guid=\"{6BBA3851-2C7E-4DEA-8F54-31E5AFD029E3}\"/>\n",
            "    <EventID>100</EventID>\n",
            "    <Version>0</Version>\n",
            "    <Level>4</Level>\n",
            "    <Task>1</Task>\n",
            "    <Opcode>12</Opcode>\n",
            "    <Keywords>0x4000000800000000</Keywords>\n",
            "    <TimeCreated SystemTime=\"2019-03-12T00:10:06.728932900Z\"/>\n",
            "    <EventRecordID>4683</EventRecordID>\n",
            "    <Correlation ActivityID=\"{52F8D487-5472-4809-AF48-E9A593EBAD80}\"/>\n",
            "    <Execution ProcessID=\"2592\" ThreadID=\"2392\"/>\n",
            "    <Channel>Microsoft-Windows-Diagnosis-DPS/Operational</Channel>\n",
            "    <Computer>DESKTOP-0QT8017</Computer>\n",
            "    <Security UserID=\"S-1-5-19\"/>\n",
            "  </System>\n",
            "  <EventData>\n",
            "    <Data Name=\"ScenarioId\">{180B3A99-8C39-4F12-B631-2031998EFE45}</Data>\n",
            "    <Data Name=\"InstanceId\">{52F8D487-5472-4809-AF48-E9A593EBAD80}</Data>\n",
            "    <Data Name=\"OriginalActivityId\">{00000000-0000-0000-0000-000000000000}</Data>\n",
            "    <Data Name=\"DiagnosticModuleImageName\">%windir%\\system32\\radardt.dll</Data>\n",
            "    <Data Name=\"DiagnosticModuleId\">{45DE1EA9-10BC-4F96-9B21-4B6B83DBF476}</Data>\n",
            "  </EventData>\n",
            "</Event>\n",
            "\n",
            "path_spec {\"__type__\": \"PathSpec\", \"mft_entry\": 83752, \"mft_attribute\": 2, \"location\": \"\\\\Windows\\\\System32\\\\winevt\\\\Logs\\\\Microsoft-Windows-Diagnosis-DPS%4Operational.evtx\", \"parent\": {\"__type__\": \"PathSpec\", \"part_index\": 2, \"start_offset\": 576716800, \"location\": \"/p1\", \"parent\": {\"__type__\": \"PathSpec\", \"parent\": {\"__type__\": \"PathSpec\", \"location\": \"/content/gdrive/MyDrive/Images/Windows/MUS-CTF-19-DESKTOP-001.E01\", \"type_indicator\": \"OS\"}, \"type_indicator\": \"EWF\"}, \"type_indicator\": \"TSK_PARTITION\"}, \"type_indicator\": \"NTFS\"}\n",
            "sha256_hash 94786297c4496cad71447aa04498e17748a7efea3906c3e708c64dbff9d4c74b\n",
            "datetime 2019-03-12T00:10:06.728933+00:00\n",
            "display_name NTFS:\\Windows\\System32\\winevt\\Logs\\Microsoft-Windows-Diagnosis-DPS%4Operational.evtx\n",
            "message [100 / 0x0064] Provider identifier: {6bba3851-2c7e-4dea-8f54-31e5afd029e3} Source Name: Microsoft-Windows-Diagnosis-DPS Strings: ['{180B3A99-8C39-4F12-B631-2031998EFE45}', '{52F8D487-5472-4809-AF48-E9A593EBAD80}', '{00000000-0000-0000-0000-000000000000}', '%windir%\\\\system32\\\\radardt.dll', '{45DE1EA9-10BC-4F96-9B21-4B6B83DBF476}'] Computer Name: DESKTOP-0QT8017 Record Number: 4683 Event Level: 4\n",
            "source_long WinEVTX\n",
            "source_short EVT\n",
            "tag []\n",
            "timestamp 1552349406728933\n",
            "timestamp_desc Creation Time\n"
          ]
        }
      ]
    },
    {
      "cell_type": "markdown",
      "metadata": {
        "id": "dYTnXao_SefE"
      },
      "source": [
        "## 7 Putting Elasticsearch json out into a Pandas dataframe"
      ]
    },
    {
      "cell_type": "code",
      "metadata": {
        "id": "ac7VgWv3CcMJ"
      },
      "source": [
        "# The output is json format which we can store in a pandas dataframe\n",
        "import pandas as pd\n",
        "import json\n",
        "from io import StringIO\n",
        "\n",
        "output = !curl -sX GET \"https://localhost:9200/_search?q=logon\" -u admin:admin --insecure\n",
        "df = pd.read_json(StringIO(output[0]))\n"
      ],
      "execution_count": null,
      "outputs": []
    },
    {
      "cell_type": "code",
      "metadata": {
        "colab": {
          "base_uri": "https://localhost:8080/"
        },
        "id": "wko1dVwzHav_",
        "outputId": "deab4d09-ebf1-4b69-d03f-0007040a649e"
      },
      "source": [
        "df.head"
      ],
      "execution_count": null,
      "outputs": [
        {
          "output_type": "execute_result",
          "data": {
            "text/plain": [
              "<bound method NDFrame.head of             took  timed_out  _shards  \\\n",
              "total         79      False      5.0   \n",
              "successful    79      False      5.0   \n",
              "skipped       79      False      0.0   \n",
              "failed        79      False      0.0   \n",
              "max_score     79      False      NaN   \n",
              "hits          79      False      NaN   \n",
              "\n",
              "                                                         hits  \n",
              "total                        {'value': 431, 'relation': 'eq'}  \n",
              "successful                                                NaN  \n",
              "skipped                                                   NaN  \n",
              "failed                                                    NaN  \n",
              "max_score                                           17.892853  \n",
              "hits        [{'_index': 'newmus2019ctf', '_id': 'Df3SBIoBB...  >"
            ]
          },
          "metadata": {},
          "execution_count": 57
        }
      ]
    },
    {
      "cell_type": "code",
      "metadata": {
        "colab": {
          "base_uri": "https://localhost:8080/"
        },
        "id": "lZjzRVicUxcB",
        "outputId": "74e9b92d-cfa0-4072-c45c-b917177cd4de"
      },
      "source": [
        "df['hits']['hits'][:1]"
      ],
      "execution_count": null,
      "outputs": [
        {
          "output_type": "execute_result",
          "data": {
            "text/plain": [
              "[{'_index': 'newmus2019ctf',\n",
              "  '_id': 'Df3SBIoBBs_h-5r-w1-d',\n",
              "  '_score': 17.892853,\n",
              "  '_source': {'data_type': 'windows:registry:key_value',\n",
              "   'key_path': 'HKEY_LOCAL_MACHINE\\\\System\\\\ControlSet001\\\\Control\\\\Terminal Server\\\\Utilities\\\\change',\n",
              "   'values': [['logon', 'REG_MULTI_SZ', '[0, 1, LOGON, chglogon.exe]'],\n",
              "    ['port', 'REG_MULTI_SZ', '[0, 1, PORT, chgport.exe]'],\n",
              "    ['user', 'REG_MULTI_SZ', '[0, 1, USER, chgusr.exe]'],\n",
              "    ['winsta', 'REG_MULTI_SZ', '[1, WINSTA, chglogon.exe]']],\n",
              "   'path_spec': '{\"__type__\": \"PathSpec\", \"location\": \"\\\\\\\\Windows\\\\\\\\System32\\\\\\\\config\\\\\\\\SYSTEM\", \"mft_attribute\": 1, \"mft_entry\": 83339, \"parent\": {\"__type__\": \"PathSpec\", \"location\": \"/p1\", \"start_offset\": 576716800, \"part_index\": 2, \"parent\": {\"__type__\": \"PathSpec\", \"parent\": {\"__type__\": \"PathSpec\", \"location\": \"/content/gdrive/MyDrive/Images/Windows/MUS-CTF-19-DESKTOP-001.E01\", \"type_indicator\": \"OS\"}, \"type_indicator\": \"EWF\"}, \"type_indicator\": \"TSK_PARTITION\"}, \"type_indicator\": \"NTFS\"}',\n",
              "   'sha256_hash': 'df2d4fd6eed8a025632be22f0cda1a821696030d40ee4c5512913374e250eb04',\n",
              "   'datetime': '2018-04-12T09:21:11.431563+00:00',\n",
              "   'display_name': 'NTFS:\\\\Windows\\\\System32\\\\config\\\\SYSTEM',\n",
              "   'message': '[HKEY_LOCAL_MACHINE\\\\System\\\\ControlSet001\\\\Control\\\\Terminal Server\\\\Utilities\\\\change] logon: [REG_MULTI_SZ] [0, 1, LOGON, chglogon.exe] port: [REG_MULTI_SZ] [0, 1, PORT, chgport.exe] user: [REG_MULTI_SZ] [0, 1, USER, chgusr.exe] winsta: [REG_MULTI_SZ] [1, WINSTA, chglogon.exe]',\n",
              "   'source_long': 'Registry Key',\n",
              "   'source_short': 'REG',\n",
              "   'tag': [],\n",
              "   'timestamp': 1523524871431563,\n",
              "   'timestamp_desc': 'Content Modification Time'}}]"
            ]
          },
          "metadata": {},
          "execution_count": 58
        }
      ]
    },
    {
      "cell_type": "markdown",
      "metadata": {
        "id": "YbiK2I2JRJ9I"
      },
      "source": [
        "# Exercises"
      ]
    },
    {
      "cell_type": "markdown",
      "metadata": {
        "id": "Q5UrnrtHNwik"
      },
      "source": [
        "## 1 Use elasticsearch to filter events in between 2019-03-12 and 2019-03-22"
      ]
    },
    {
      "cell_type": "code",
      "metadata": {
        "id": "DbVOPwcJOQlG"
      },
      "source": [
        "# Your answer"
      ],
      "execution_count": null,
      "outputs": []
    },
    {
      "cell_type": "markdown",
      "metadata": {
        "id": "bfONyKEXN-rV"
      },
      "source": [
        "## 2 Write a query that performs an aggregation on source_long and source_short (can you find the right field names?)"
      ]
    },
    {
      "cell_type": "code",
      "metadata": {
        "id": "ZODQrUy0ORHV"
      },
      "source": [
        "# Your answer"
      ],
      "execution_count": null,
      "outputs": []
    },
    {
      "cell_type": "markdown",
      "metadata": {
        "id": "O3GkaEj-qYFt"
      },
      "source": [
        "## 3 Combine your date range filter from exercise 1 with facet aggregation in exercise 2"
      ]
    },
    {
      "cell_type": "code",
      "metadata": {
        "id": "t1-llbwAORqS"
      },
      "source": [
        "# Your answer"
      ],
      "execution_count": null,
      "outputs": []
    },
    {
      "cell_type": "markdown",
      "metadata": {
        "id": "PiIcl3VyVUjD"
      },
      "source": [
        "## 4 ***Advanced*** Use opensearch facet aggregation to create a treemap visualisation of a filtered set of events in the index."
      ]
    },
    {
      "cell_type": "markdown",
      "source": [
        "####Step 1\n",
        "The source_short and source_long look interesting for visualisation let's focus on REG, LOG and FILE and run a query. Try the following to see what this looks like:"
      ],
      "metadata": {
        "id": "Q7LqOkfLqALX"
      }
    },
    {
      "cell_type": "code",
      "source": [
        "facets = '\"aggs\": {   \"source_long\": { \"terms\": { \"field\": \"source_long.keyword\"}}, \"source_short\": { \"terms\": { \"field\": \"source_short.keyword\"}}}'\n",
        "daterange = 'datetime:[2019-03-12 TO 2019-03-22]'\n",
        "# FILE:\n",
        "querystring = '{ \"query_string\": {\"query\": \"%s AND  source_short:(FILE OR LOG OR REG)\"  }}' % daterange\n",
        "query = '{\"query\": %s,%s}' % (querystring,facets)\n",
        "response = client.search(index=\"newmus2019ctf\", body=query, size=0,track_total_hits=True)\n",
        "print_facets(response['aggregations'].items())"
      ],
      "metadata": {
        "id": "MHRK7T3UqPKQ"
      },
      "execution_count": null,
      "outputs": []
    },
    {
      "cell_type": "markdown",
      "source": [
        "Why is this not very helpful for a treemap visualisation?"
      ],
      "metadata": {
        "id": "bIuRp1fOrGNS"
      }
    },
    {
      "cell_type": "code",
      "source": [
        "# Your answer"
      ],
      "metadata": {
        "id": "OsJbaVGXrCz9"
      },
      "execution_count": null,
      "outputs": []
    },
    {
      "cell_type": "markdown",
      "source": [
        "####Step 2\n",
        "One approach is to aggregate only accross source_long an run 3 separate queries for source_short equal to REG, LOG and FILE respectively and then combine the results into a single dataframe that we can visualise:"
      ],
      "metadata": {
        "id": "OQQeukgAqBHK"
      }
    },
    {
      "cell_type": "code",
      "source": [
        "# Your answer. If you are struggling you can skip this step and move on to step 3."
      ],
      "metadata": {
        "id": "B-KRTDWHqhH3"
      },
      "execution_count": null,
      "outputs": []
    },
    {
      "cell_type": "markdown",
      "source": [
        "####Step 3\n",
        "Opensearch can also aggregate accros multiple fields combined. This is called multi_terms aggregation which aggregates accross all (source_long, source_short) value pairs. Note: by default opensearch returns 10 buckets max. We set it to 20 here using the size parameter.\n",
        "\n",
        "See https://opensearch.org/docs/2.0/opensearch/bucket-agg/ for more information about opensearch and multi_term aggregation."
      ],
      "metadata": {
        "id": "3bT56CM1qEXT"
      }
    },
    {
      "cell_type": "code",
      "source": [
        "# Your answer"
      ],
      "metadata": {
        "id": "Am1n1dpfqwt0"
      },
      "execution_count": null,
      "outputs": []
    },
    {
      "cell_type": "markdown",
      "source": [
        "####Step 4\n",
        "The exercise asked for aggregation accross 3 fields. So let's add the parser field and deepen our treemap visualisation"
      ],
      "metadata": {
        "id": "-LG7gL7GqGr9"
      }
    },
    {
      "cell_type": "code",
      "metadata": {
        "id": "StUwuHNLsHN5"
      },
      "source": [
        "# Your answer"
      ],
      "execution_count": null,
      "outputs": []
    }
  ]
}