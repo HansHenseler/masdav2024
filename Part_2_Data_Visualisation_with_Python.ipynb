{
  "nbformat": 4,
  "nbformat_minor": 0,
  "metadata": {
    "colab": {
      "name": "Part_2_Data_Visualisation_with_Python.ipynb",
      "provenance": [],
      "include_colab_link": true
    },
    "kernelspec": {
      "name": "python3",
      "display_name": "Python 3"
    },
    "language_info": {
      "name": "python"
    }
  },
  "cells": [
    {
      "cell_type": "markdown",
      "metadata": {
        "id": "view-in-github",
        "colab_type": "text"
      },
      "source": [
        "<a href=\"https://colab.research.google.com/github/HansHenseler/masdav2024/blob/main/Part_2_Data_Visualisation_with_Python.ipynb\" target=\"_parent\"><img src=\"https://colab.research.google.com/assets/colab-badge.svg\" alt=\"Open In Colab\"/></a>"
      ]
    },
    {
      "cell_type": "markdown",
      "metadata": {
        "id": "qjdZjgSwnprO"
      },
      "source": [
        "# Python for Data Visualisation introduction\n",
        "\n",
        "\n",
        "Master of Advanced Studies in Digital Forensics & Cyber Investigation\n",
        "\n",
        "Data Analytics and Visualization for Digital Forensics\n",
        "\n",
        "(c) Hans Henseler, 2024\n",
        "\n"
      ]
    },
    {
      "cell_type": "markdown",
      "metadata": {
        "id": "Yx7aiHOLAvPa"
      },
      "source": [
        "\n",
        "# Part 2\n",
        "\n",
        "This exercise starts with examples of most common data analysis tasks with Python, from the features of Python itself to using Pandas Dataframes that you practiced in part 1. At the end are a few exercises that you can try to accomplish yourself.\n",
        "\n",
        "The first part of this exercise has been adapted from https://machinelearningmastery.com/time-series-data-visualization-with-python/\n",
        "\n",
        "Time series lends itself naturally to visualization and is an important part of digital forensics and cyber investigations in particular.\n",
        "\n",
        "Line plots of observations over time are popular, but there is a suite of other plots that you can use to learn more about your problem.\n",
        "\n",
        "The more you learn about your data, the more likely you are to develop a better  model. In this tutorial, you will discover 6 different types of plots that you can use to visualize time series data with Python.\n",
        "\n",
        "In this part, we will take a look at 6 different types of visualizations that you can use on your own time series data. They are:\n",
        "\n",
        "1. Line Plots.\n",
        "2. Histograms and Density Plots.\n",
        "3. Box and Whisker Plots.\n",
        "4. Heat Maps.\n",
        "5. Lag Plots or Scatter Plots.\n",
        "6. Autocorrelation Plots.\n",
        "7. Treemap, sunburst and bubble chart\n",
        "8. Wordclouds\n",
        "9. Visualings digital forensics data\n"
      ]
    },
    {
      "cell_type": "markdown",
      "metadata": {
        "id": "TcuD-1zV7kuU"
      },
      "source": [
        "Minimum Daily Temperatures Dataset\n",
        "This dataset describes the minimum daily temperatures over 10 years (1981-1990) in the city Melbourne, Australia.\n",
        "\n",
        "The units are in degrees Celsius and there are 3,650 observations. The source of the data is credited as the Australian Bureau of Meteorology.\n",
        "\n",
        "Below is an example of loading the dataset as a Panda Series."
      ]
    },
    {
      "cell_type": "code",
      "metadata": {
        "id": "KQsvR1Ylnfn0"
      },
      "source": [
        "\n",
        "from pandas import read_csv\n",
        "from matplotlib import pyplot\n",
        "# we need to upgrade the plotly version that is pre-installed in Google Colab\n",
        "#\n",
        "!pip install --upgrade plotly\n",
        "\n",
        "import plotly.express as px"
      ],
      "execution_count": null,
      "outputs": []
    },
    {
      "cell_type": "code",
      "source": [
        "\n",
        "# We need some files with sample data for the examples and excersises this morning.\n",
        "\n",
        "from google.colab import drive\n",
        "drive.mount('/content/drive')"
      ],
      "metadata": {
        "id": "Mz0qHsKOCkhh"
      },
      "execution_count": null,
      "outputs": []
    },
    {
      "cell_type": "code",
      "metadata": {
        "id": "O-4P0t1ilHFr"
      },
      "source": [
        "\n",
        "series = read_csv('/content/drive/MyDrive/Testdata/daily-min-temperatures.csv', header=0, index_col=0, parse_dates=True)\n",
        "\n",
        "# transform dataframe into a series if it only has one column and an index (in this case date)\n",
        "series = series.squeeze()\n",
        "series.head()"
      ],
      "execution_count": null,
      "outputs": []
    },
    {
      "cell_type": "markdown",
      "metadata": {
        "id": "cLG-q_ht8J9n"
      },
      "source": [
        "## 1 Time Series Line Plot\n",
        "The first, and perhaps most popular, visualization for time series is the line plot.\n",
        "\n",
        "In this plot, time is shown on the x-axis with observation values along the y-axis.\n",
        "\n",
        "Below is an example of visualizing the Pandas Series of the Minimum Daily Temperatures dataset directly as a line plot."
      ]
    },
    {
      "cell_type": "code",
      "metadata": {
        "id": "Lemrfter8QiM"
      },
      "source": [
        "series.plot()\n",
        "pyplot.show()"
      ],
      "execution_count": null,
      "outputs": []
    },
    {
      "cell_type": "markdown",
      "metadata": {
        "id": "M_O1tfZG8fgD"
      },
      "source": [
        "The line plot is quite dense. Can we make the plot wider?"
      ]
    },
    {
      "cell_type": "code",
      "source": [
        "# or we can make the plot figure wider\n",
        "\n",
        "pyplot.figure(figsize=(15, 6))\n",
        "series.plot()\n",
        "pyplot.show()"
      ],
      "metadata": {
        "id": "Fz9eOpkakhYL"
      },
      "execution_count": null,
      "outputs": []
    },
    {
      "cell_type": "code",
      "source": [
        "# Customize the plot\n",
        "\n",
        "pyplot.figure(figsize=(15, 6))\n",
        "pyplot.title('Daily Minimum Temperatures')\n",
        "pyplot.xlabel('Date')\n",
        "pyplot.ylabel('Temperature (°C)')\n",
        "series.plot()\n",
        "pyplot.show()"
      ],
      "metadata": {
        "id": "0iIg3LzalDpx"
      },
      "execution_count": null,
      "outputs": []
    },
    {
      "cell_type": "markdown",
      "metadata": {
        "id": "ZIUSvNoFmN4E"
      },
      "source": [
        "The line plot is quite dense.\n",
        "\n",
        "Sometimes it can help to change the style of the line plot; for example, to use a dashed line or dots.\n",
        "\n",
        "Below is an example of changing the style of the line to be black dots instead of a connected line (the style=’k.’ argument).\n",
        "\n",
        "We could change this example to use a dashed line by setting style to be ‘k–‘."
      ]
    },
    {
      "cell_type": "code",
      "metadata": {
        "id": "q7KZHP0Z8ge9"
      },
      "source": [
        "series.plot(style='g.')\n",
        "pyplot.show()"
      ],
      "execution_count": null,
      "outputs": []
    },
    {
      "cell_type": "markdown",
      "metadata": {
        "id": "MxyEn1AL8oHI"
      },
      "source": [
        "Running the example recreates the same line plot with dots instead of the connected line.\n",
        "\n",
        "The `style` parameter in `series.plot(style)` allows you to customize the appearance of the line or markers in your plot. It is a convenient way to specify a variety of styles in a single parameter, using a simple string format. Here's a breakdown of the kinds of styles you can specify using this parameter:\n",
        "\n",
        "1. **Color Codes**:\n",
        "   - You can specify the color of the line or markers using a single-letter string.\n",
        "   - Example: `'b'` for blue, `'g'` for green, `'r'` for red, `'c'` for cyan, `'m'` for magenta, `'y'` for yellow, `'k'` for black, and `'w'` for white.\n",
        "\n",
        "2. **Line Styles**:\n",
        "   - You can specify the style of the line using strings.\n",
        "   - Example: `'-'` for a solid line, `'--'` for a dashed line, `'-.'` for a dash-dot line, and `':'` for a dotted line.\n",
        "\n",
        "3. **Marker Styles**:\n",
        "   - You can specify the style of the markers using strings.\n",
        "   - Example: `'o'` for circles, `'s'` for squares, `'.'` for points, `'D'` for diamonds, `'^'` for upwards triangles, `'p'` for pentagons, and so on.\n",
        "\n",
        "4. **Combination of Color, Line, and Marker Styles**:\n",
        "   - You can combine color, line, and marker styles by concatenating their codes in a single string.\n",
        "   - Example: `'bo-'` for blue circles connected by solid lines, `'g^--'` for green triangles connected by dashed lines, and `'ro:'` for red circles connected by dotted lines.\n",
        "\n",
        "Here are some examples of how you can use the `style` parameter in `series.plot(style)`:\n",
        "\n",
        "```python\n",
        "import matplotlib.pyplot as plt\n",
        "\n",
        "# Blue solid line\n",
        "series.plot(style='b-')\n",
        "plt.title('Blue Solid Line')\n",
        "plt.show()\n",
        "\n",
        "# Green dashed line\n",
        "series.plot(style='g--')\n",
        "plt.title('Green Dashed Line')\n",
        "plt.show()\n",
        "\n",
        "# Red circles connected by dotted lines\n",
        "series.plot(style='ro:')\n",
        "plt.title('Red Circles with Dotted Lines')\n",
        "plt.show()\n",
        "\n",
        "# Cyan squares with no line\n",
        "series.plot(style='cs')\n",
        "plt.title('Cyan Squares with No Line')\n",
        "plt.show()\n",
        "```\n",
        "\n",
        "Each `style` string is a combination of a color code, a line style, and a marker style, in any order. The `style` parameter is a very flexible way to quickly customize the appearance of your plot."
      ]
    },
    {
      "cell_type": "markdown",
      "metadata": {
        "id": "iUV_amzXmGDz"
      },
      "source": [
        "### Comparing line plots for multiple years\n",
        "\n",
        "It can be helpful to compare line plots for the same interval, such as from day-to-day, month-to-month, and year-to-year.\n",
        "\n",
        "The Minimum Daily Temperatures dataset spans 10 years. We can group data by year and create a line plot for each year for direct comparison.\n"
      ]
    },
    {
      "cell_type": "markdown",
      "source": [
        "The command `groups = series.groupby(Grouper(freq='A'))` is used to group a time series data by a specific frequency. In this command:\n",
        "\n",
        "1. `series` is assumed to be a pandas Series object with a DatetimeIndex (i.e., time series data).\n",
        "\n",
        "2. `Grouper(freq='A')` creates a `Grouper` object, which is a utility in pandas for grouping data. The `freq` parameter specifies the frequency at which to group the data.\n",
        "   - The `'A'` in `freq='A'` stands for \"Annual\" or \"Year End\". It specifies that data will be grouped based on year-end dates. For example, all the data with a timestamp in 1981 will be one group, all the data with a timestamp in 1982 will be another group, and so on.\n",
        "\n",
        "3. `groupby(Grouper(freq='A'))` applies this grouping to the `series` object. This means that `series` will be split into separate groups, where each group contains all the data points from a single year.\n",
        "\n",
        "4. `groups` is the resulting object from the `groupby` operation. It is a `GroupBy` object, which is a special type of object in pandas that represents the grouped data. It is essentially a collection of groups (each one being a set of data points from a single year, in this case), and you can apply various operations to these groups (like computing the mean, sum, etc. of each group).\n",
        "\n",
        "Here is an example to illustrate how this works:\n",
        "\n",
        "```python\n",
        "import pandas as pd\n",
        "from pandas import Grouper\n",
        "\n",
        "# Assume 'series' is your time series data\n",
        "# ...\n",
        "\n",
        "# Group the data by year-end\n",
        "groups = series.groupby(Grouper(freq='A'))\n",
        "\n",
        "# Print the mean of each group (i.e., the mean temperature for each year)\n",
        "for name, group in groups:\n",
        "    print(name.year, group.mean())\n",
        "```\n",
        "\n",
        "In this example, the `for name, group in groups:` loop iterates over each group produced by the `groupby` operation. For each group, `name` is the name of the group (which, in this case, is the year-end date for each group) and `group` is the data in that group (i.e., all the data points from that year). The `print(name.year, group.mean())` statement prints the mean of each group, so this script would print the mean temperature for each year.\n",
        "\n",
        "The `Grouper` object is a powerful tool in pandas for grouping time series data at various levels of granularity, and it is especially useful for resampling time series data and computing summary statistics over different time intervals."
      ],
      "metadata": {
        "id": "jU1EyHBjnMKe"
      }
    },
    {
      "cell_type": "markdown",
      "source": [
        "\n",
        "Let's get back to our time series of minium temperatures. The example below shows how to compare the 10 years in a single plot.\n",
        "\n",
        "The groups are then enumerated and the observations for each year are stored as columns in a new DataFrame.\n",
        "\n",
        "Finally, a plot of this contrived DataFrame is created with each column visualized as a subplot with legends removed to cut back on the clutter."
      ],
      "metadata": {
        "id": "lXzcT3fjnt1-"
      }
    },
    {
      "cell_type": "code",
      "metadata": {
        "id": "0u8YgWPM8wZw"
      },
      "source": [
        "from pandas import DataFrame\n",
        "from pandas import Grouper\n",
        "\n",
        "groups = series.groupby(Grouper(freq='A'))\n",
        "years = DataFrame()\n",
        "for name, group in groups:\n",
        "\tyears[name.year] = group.values\n",
        "\n",
        "years.plot(subplots=True, legend=False)\n",
        "pyplot.show()"
      ],
      "execution_count": null,
      "outputs": []
    },
    {
      "cell_type": "markdown",
      "metadata": {
        "id": "NAmEOBt19KRs"
      },
      "source": [
        "Running the example creates 10 line plots, one for each year from 1981 at the top and 1990 at the bottom, where each line plot is 365 days in length."
      ]
    },
    {
      "cell_type": "markdown",
      "metadata": {
        "id": "oOjCnMrx9RnY"
      },
      "source": [
        "## 2 Time Series Histogram and Density Plots\n",
        "Another important visualization is of the distribution of observations themselves.\n",
        "\n",
        "This means a plot of the values without the temporal ordering.\n",
        "\n",
        "Some linear time series forecasting methods assume a well-behaved distribution of observations (i.e. a bell curve or normal distribution). This can be explicitly checked using tools like statistical hypothesis tests. But plots can provide a useful first check of the distribution of observations both on raw observations and after any type of data transform has been performed.\n",
        "\n",
        "The example below creates a histogram plot of the observations in the Minimum Daily Temperatures dataset. A histogram groups values into bins, and the frequency or count of observations in each bin can provide insight into the underlying distribution of the observations."
      ]
    },
    {
      "cell_type": "code",
      "metadata": {
        "id": "1VkAi-wr9Jdk"
      },
      "source": [
        "series.hist()\n",
        "pyplot.show()"
      ],
      "execution_count": null,
      "outputs": []
    },
    {
      "cell_type": "markdown",
      "metadata": {
        "id": "t76KRhUp9elX"
      },
      "source": [
        "Running the example shows a distribution that looks strongly Gaussian. The plotting function automatically selects the size of the bins based on the spread of values in the data.\n",
        "\n",
        "We can get a better idea of the shape of the distribution of observations by using a density plot.\n",
        "\n",
        "This is like the histogram, except a function is used to fit the distribution of observations and a nice, smooth line is used to summarize this distribution.\n",
        "\n",
        "Below is an example of a density plot of the Minimum Daily Temperatures dataset.The kind='kde' specifies a Kernel Density Estimation plot. A way of smoothing out data to visualize the distribution. It produces a probability density function."
      ]
    },
    {
      "cell_type": "code",
      "metadata": {
        "id": "Q3qVMeR49dIV"
      },
      "source": [
        "series.plot(kind='kde')\n",
        "pyplot.show()"
      ],
      "execution_count": null,
      "outputs": []
    },
    {
      "cell_type": "markdown",
      "metadata": {
        "id": "Aoj10XeU9rrY"
      },
      "source": [
        "Running the example creates a plot that provides a clearer summary of the distribution of observations. We can see that perhaps the distribution is a little asymmetrical and perhaps a little pointy to be Gaussian.\n",
        "\n",
        "Seeing a distribution like this may suggest later exploring statistical hypothesis tests to formally check if the distribution is Gaussian and perhaps data preparation techniques to reshape the distribution, like the Box-Cox transform."
      ]
    },
    {
      "cell_type": "markdown",
      "metadata": {
        "id": "uCHCPb5d94E2"
      },
      "source": [
        "## 3 Time Series Box and Whisker Plots by Interval\n",
        "Histograms and density plots provide insight into the distribution of all observations, but we may be interested in the distribution of values by time interval.\n",
        "\n",
        "Another type of plot that is useful to summarize the distribution of observations is the box and whisker plot. This plot draws a box around the 25th and 75th percentiles of the data that captures the middle 50% of observations. A line is drawn at the 50th percentile (the median) and whiskers are drawn above and below the box to summarize the general extents of the observations. Dots are drawn for outliers outside the whiskers or extents of the data.\n",
        "\n",
        "### What are Box, Whiskers and Outliers?\n",
        "\n",
        "1. **Box**:\n",
        "   - **Q1 (First Quartile)**: The 25th percentile of the data.\n",
        "   - **Median**: The 50th percentile, which divides the data into two equal parts.\n",
        "   - **Q3 (Third Quartile)**: The 75th percentile of the data.\n",
        "\n",
        "2. **Whiskers**:\n",
        "   - **Minimum**: The smallest data point that is not considered an outlier (typically Q1 - 1.5 * IQR).\n",
        "   - **Maximum**: The largest data point that is not considered an outlier (typically Q3 + 1.5 * IQR).\n",
        "   - **Note**: IQR=Q3-Q1\n",
        "\n",
        "3. **Outliers**:\n",
        "   - Data points outside the range of the whiskers.\n",
        "\n",
        "\n",
        "\n",
        "Box and whisker plots can be created and compared for each interval in a time series, such as years, months, or days.\n",
        "\n",
        "Below is an example of grouping the Minimum Daily Temperatures dataset by years, as was done above in the plot example. A box and whisker plot is then created for each year and lined up side-by-side for direct comparison."
      ]
    },
    {
      "cell_type": "code",
      "metadata": {
        "id": "EtttMtqD-DSE"
      },
      "source": [
        "years = DataFrame()\n",
        "for name, group in groups:\n",
        "\tyears[name.year] = group.values\n",
        "years.boxplot()\n",
        "pyplot.show()"
      ],
      "execution_count": null,
      "outputs": []
    },
    {
      "cell_type": "markdown",
      "metadata": {
        "id": "NNSIPdXf-LLA"
      },
      "source": [
        "We may also be interested in the distribution of values across months within a year.\n",
        "\n",
        "The example below creates 12 box and whisker plots, one for each month of 1990, the last year in the dataset.\n",
        "\n",
        "In the example, first, only observations from 1990 are extracted.\n",
        "\n",
        "Then, the observations are grouped by month, and each month is added to a new DataFrame as a column.\n",
        "\n",
        "Finally, a box and whisker plot is created for each month-column in the newly constructed DataFrame."
      ]
    },
    {
      "cell_type": "code",
      "metadata": {
        "id": "f2JfKFO7-NHQ"
      },
      "source": [
        "from pandas import concat\n",
        "one_year = series['1990']\n",
        "groups = one_year.groupby(Grouper(freq='M'))\n",
        "months = concat([DataFrame(x[1].values) for x in groups], axis=1)\n",
        "months = DataFrame(months)\n",
        "months.columns = range(1,13)\n",
        "months.boxplot()\n",
        "pyplot.show()"
      ],
      "execution_count": null,
      "outputs": []
    },
    {
      "cell_type": "markdown",
      "metadata": {
        "id": "058LB9ND-sDu"
      },
      "source": [
        "Running the example creates 12 box and whisker plots, showing the significant change in distribution of minimum temperatures across the months of the year from the Southern Hemisphere summer in January to the Southern Hemisphere winter in the middle of the year, and back to summer again."
      ]
    },
    {
      "cell_type": "markdown",
      "metadata": {
        "id": "z9mg7eJQ-wz-"
      },
      "source": [
        "## 4 Time Series Heat Maps\n",
        "A matrix of numbers can be plotted as a surface, where the values in each cell of the matrix are assigned a unique color.\n",
        "\n",
        "This is called a heatmap, as larger values can be drawn with warmer colors (yellows and reds) and smaller values can be drawn with cooler colors (blues and greens).\n",
        "\n",
        "Like the box and whisker plots, we can compare observations between intervals using a heat map.\n",
        "\n",
        "In the case of the Minimum Daily Temperatures, the observations can be arranged into a matrix of year-columns and day-rows, with minimum temperature in the cell for each day. A heat map of this matrix can then be plotted.\n",
        "\n",
        "Below is an example of creating a heatmap of the Minimum Daily Temperatures data. The matshow() function from the matplotlib library is used as no heatmap support is provided directly in Pandas.\n",
        "\n",
        "For convenience, the matrix is rotation (transposed) so that each row represents one year and each column one day. This provides a more intuitive, left-to-right layout of the data."
      ]
    },
    {
      "cell_type": "code",
      "metadata": {
        "id": "8dRtHzkb-4Qx"
      },
      "source": [
        "years = years.T\n",
        "pyplot.matshow(years, interpolation=None, aspect='auto')\n",
        "pyplot.show()"
      ],
      "execution_count": null,
      "outputs": []
    },
    {
      "cell_type": "code",
      "metadata": {
        "id": "j0-joh5V_LAl"
      },
      "source": [
        "years"
      ],
      "execution_count": null,
      "outputs": []
    },
    {
      "cell_type": "markdown",
      "metadata": {
        "id": "Rtzu-_yU_gdY"
      },
      "source": [
        "The plot shows the cooler minimum temperatures in the middle days of the years and the warmer minimum temperatures in the start and ends of the years, and all the fading and complexity in between.\n",
        "\n",
        "As with the box and whisker plot example above, we can also compare the months within a year.\n",
        "\n",
        "Below is an example of a heat map comparing the months of the year in 1990. Each column represents one month, with rows representing the days of the month from 1 to 31."
      ]
    },
    {
      "cell_type": "code",
      "metadata": {
        "id": "VV8KSGW4_sPD"
      },
      "source": [
        "groups = one_year.groupby(Grouper(freq='M'))\n",
        "months = concat([DataFrame(x[1].values) for x in groups], axis=1)\n",
        "months.columns = range(1,13)\n",
        "pyplot.matshow(months, interpolation=None, aspect='auto')\n",
        "pyplot.show()"
      ],
      "execution_count": null,
      "outputs": []
    },
    {
      "cell_type": "markdown",
      "source": [
        "So it works. Let’s break it down step by step to understand how this works:\n",
        "\n",
        "1. **`one_year = series['1990']`**:\n",
        "   - This line selects the data for the year 1990 from the entire time series dataset. Assuming `series` is a Pandas Series with a DatetimeIndex, this line will filter the data to include only the entries where the date is within the year 1990.\n",
        "\n",
        "2. **`groups = one_year.groupby(Grouper(freq='M'))`**:\n",
        "   - Here, the data from 1990 (`one_year`) is grouped by month. The `Grouper(freq='M')` part tells Pandas to create groups based on month-end dates. After this line, `groups` is a GroupBy object where each group represents the data for a single month in the year 1990.\n",
        "\n",
        "3. **`months = concat([DataFrame(x[1].values) for x in groups], axis=1)`**:\n",
        "   - This line is concatenating the values for each month (group) into a new DataFrame called `months`. Specifically:\n",
        "     - `x[1].values` extracts the actual temperature values for each month (group `x`).\n",
        "     - `DataFrame(x[1].values)` converts the values for each month into a separate Pandas DataFrame.\n",
        "     - `[DataFrame(x[1].values) for x in groups]` creates a list of these DataFrames, one for each month.\n",
        "     - `concat(..., axis=1)` concatenates these DataFrames horizontally (along `axis=1`), which means each DataFrame becomes a separate column in the resulting `months` DataFrame.\n",
        "\n",
        "4. **`months.columns = range(1,13)`**:\n",
        "   - This line renames the columns of the `months` DataFrame to be the integers from 1 to 12, representing the months of the year. This is done for clarity and to make the plot more interpretable.\n",
        "\n",
        "5. **`pyplot.matshow(months, interpolation=None, aspect='auto')`**:\n",
        "   - This line creates a matrix plot of the `months` DataFrame using Matplotlib’s `matshow` function.\n",
        "   - `months` is the data to be plotted, where each column is a month and each row is a day within that month.\n",
        "   - `interpolation=None` specifies that no interpolation should be applied to the pixels in the plot. This means that the data is represented as-is, without trying to smooth or blend the values.\n",
        "   - `aspect='auto'` allows the plot to automatically adjust the aspect ratio of the plot based on the dimensions of the data.\n",
        "\n",
        "6. **`pyplot.show()`**:\n",
        "   - This line displays the plot. It tells Matplotlib to render the plot and show it as an output. Until this command is called, the plot is constructed in the background but not displayed.\n",
        "\n",
        "In summary, this block of code is creating a heatmap-style visualization of daily minimum temperatures for each month of the year 1990. Each row of the plot represents a day within a month, and each column represents a month, with the color indicating the temperature on that day. This type of visualization can be very helpful for spotting seasonal or monthly patterns in time series data."
      ],
      "metadata": {
        "id": "qptLXX8ftRaz"
      }
    },
    {
      "cell_type": "code",
      "source": [
        "# Instead of using pyplot.matshow we can also use the heatmap from the seaborn library\n",
        "import seaborn as sns\n",
        "\n",
        "# The color map to use for the heatmap. ‘viridis’ is a perceptually uniform color map,\n",
        "# which is great for accurately representing the data visually. Seaborn and Matplotlib\n",
        "# have various other colormaps you can use, such as 'coolwarm', 'Blues', etc.\n",
        "\n",
        "sns.heatmap(data=months.T, cmap='viridis')\n",
        "\n",
        "# Adding title and labels\n",
        "pyplot.title('Heatmap of 1990 Monthly Temperatures')\n",
        "pyplot.ylabel('Month')\n",
        "pyplot.xlabel('Day of Month')\n",
        "\n",
        "# Show the plot\n",
        "pyplot.show()"
      ],
      "metadata": {
        "id": "WdEExzMst52Y"
      },
      "execution_count": null,
      "outputs": []
    },
    {
      "cell_type": "code",
      "metadata": {
        "id": "pS97rSzIIHgW"
      },
      "source": [
        "# Alternatively we can plot years <> days\n",
        "# we don't need to use pyplot\n",
        "\n",
        "sns.heatmap(years, cmap=\"Greens\")"
      ],
      "execution_count": null,
      "outputs": []
    },
    {
      "cell_type": "code",
      "metadata": {
        "id": "t4JEs7KdOLid"
      },
      "source": [
        "# change the figure size\n",
        "#\n",
        "sns.set(rc = {'figure.figsize':(30,4)})\n",
        "sns.heatmap(years, cmap=\"Reds\")"
      ],
      "execution_count": null,
      "outputs": []
    },
    {
      "cell_type": "markdown",
      "metadata": {
        "id": "yOClRDXdADXT"
      },
      "source": [
        "## 5 Time Series Lag Scatter Plots\n",
        "Time series modeling assumes a relationship between an observation and the previous observation.\n",
        "\n",
        "Previous observations in a time series are called lags, with the observation at the previous time step called lag1, the observation at two time steps ago lag2, and so on.\n",
        "\n",
        "A useful type of plot to explore the relationship between each observation and a lag of that observation is called the scatter plot.\n",
        "\n",
        "Pandas has a built-in function for exactly this called the lag plot. It plots the observation at time t on the x-axis and the lag1 observation (t-1) on the y-axis.\n",
        "\n",
        "If the points cluster along a diagonal line from the bottom-left to the top-right of the plot, it suggests a positive correlation relationship.\n",
        "If the points cluster along a diagonal line from the top-left to the bottom-right, it suggests a negative correlation relationship.\n",
        "Either relationship is good as they can be modeled.\n",
        "More points tighter in to the diagonal line suggests a stronger relationship and more spread from the line suggests a weaker relationship.\n",
        "\n",
        "A ball in the middle or a spread across the plot suggests a weak or no relationship.\n",
        "\n",
        "Below is an example of a lag plot for the Minimum Daily Temperatures dataset."
      ]
    },
    {
      "cell_type": "code",
      "metadata": {
        "id": "Q_LuERafAGT-"
      },
      "source": [
        "from pandas.plotting import lag_plot\n",
        "lag_plot(series)\n",
        "pyplot.show()"
      ],
      "execution_count": null,
      "outputs": []
    },
    {
      "cell_type": "markdown",
      "metadata": {
        "id": "s_amiKZMA0bi"
      },
      "source": [
        "## 6 Time Series Autocorrelation Plots\n",
        "We can quantify the strength and type of relationship between observations and their lags.\n",
        "\n",
        "In statistics, this is called correlation, and when calculated against lag values in time series, it is called autocorrelation (self-correlation).\n",
        "\n",
        "A correlation value calculated between two groups of numbers, such as observations and their lag1 values, results in a number between -1 and 1. The sign of this number indicates a negative or positive correlation respectively. A value close to zero suggests a weak correlation, whereas a value closer to -1 or 1 indicates a strong correlation.\n",
        "\n",
        "Correlation values, called correlation coefficients, can be calculated for each observation and different lag values. Once calculated, a plot can be created to help better understand how this relationship changes over the lag.\n",
        "\n",
        "This type of plot is called an autocorrelation plot and Pandas provides this capability built in, called the autocorrelation_plot() function.\n",
        "\n",
        "The example below creates an autocorrelation plot for the Minimum Daily Temperatures dataset:"
      ]
    },
    {
      "cell_type": "code",
      "metadata": {
        "id": "AnBHQyn3A0OI"
      },
      "source": [
        "from pandas.plotting import autocorrelation_plot\n",
        "autocorrelation_plot(series)\n",
        "pyplot.show()"
      ],
      "execution_count": null,
      "outputs": []
    },
    {
      "cell_type": "markdown",
      "metadata": {
        "id": "b8muhAq0dUyQ"
      },
      "source": [
        "## 7 Visualising hierarchical data with treemap, sunburst and bubble chart\n",
        "\n",
        "Get inspired by towardsdatascience: https://towardsdatascience.com/visualization-with-plotly-express-comprehensive-guide-eb5ee4b50b57\n",
        "\n",
        "More about plotly on https://plotly.com/chart-studio-help/tutorials/ and https://plotly.com/python/\n",
        "\n",
        "Documentation on the python api at https://plotly.com/python-api-reference/"
      ]
    },
    {
      "cell_type": "code",
      "metadata": {
        "id": "d027vNsUoZFt"
      },
      "source": [
        "fig = px.treemap(\n",
        "    names = [\"A\",\"B\", \"C\", \"D\", \"E\"],\n",
        "    parents = [\"\", \"A\", \"B\", \"C\", \"A\"]\n",
        ")\n",
        "\n",
        "fig.show()"
      ],
      "execution_count": null,
      "outputs": []
    },
    {
      "cell_type": "code",
      "metadata": {
        "id": "OiY7FzGOlldP"
      },
      "source": [
        "fig = px.sunburst(\n",
        "    names = [\"A\",\"B\", \"C\", \"D\", \"E\"],\n",
        "    parents = [\"\", \"A\", \"B\", \"C\", \"A\"]\n",
        ")\n",
        "\n",
        "fig.show()"
      ],
      "execution_count": null,
      "outputs": []
    },
    {
      "cell_type": "code",
      "metadata": {
        "id": "6V0ItI_HmBxd"
      },
      "source": [
        "# In our case we want to visualise data in dataframes\n",
        "# the plotly.express library provides some standard data examples\n",
        "#\n",
        "# here is an overview of sample datasets: http://plotly.github.io/datasets/\n",
        "\n",
        "df = px.data.tips()\n",
        "df"
      ],
      "execution_count": null,
      "outputs": []
    },
    {
      "cell_type": "code",
      "metadata": {
        "id": "ZBrjnEexo6m7"
      },
      "source": [
        "fig = px.treemap(df, path=['time', 'day', 'sex'],\n",
        "                 values='tip')\n",
        "fig.show()"
      ],
      "execution_count": null,
      "outputs": []
    },
    {
      "cell_type": "code",
      "metadata": {
        "id": "9J1yTOEOp5dB"
      },
      "source": [
        "fig = px.sunburst(df, path=['time','smoker','sex','day' ],\n",
        "                 values='total_bill')\n",
        "fig.show()"
      ],
      "execution_count": null,
      "outputs": []
    },
    {
      "cell_type": "code",
      "metadata": {
        "id": "0nfFAnyDoE_A"
      },
      "source": [
        "# Bubble chart (actually based on scatter)\n",
        "\n",
        "fig = px.scatter(df, x=\"time\", y=\"day\",\n",
        "\t         size=\"tip\", color=\"sex\",\n",
        "                 hover_name=\"tip\", log_x=False, size_max=60)\n",
        "fig.show()"
      ],
      "execution_count": null,
      "outputs": []
    },
    {
      "cell_type": "markdown",
      "metadata": {
        "id": "zpJdjgCCtJcJ"
      },
      "source": [
        "## 8 Visualising textual data with wordcloud\n",
        "\n",
        "Also see https://github.com/amueller/word_cloud for more examples"
      ]
    },
    {
      "cell_type": "code",
      "metadata": {
        "id": "tlws_1YHuPNy"
      },
      "source": [
        "# create a txt file. E.g using https://totheweb.com/learning_center/tools-convert-html-text-to-plain-text-for-content-review/ and taking\n",
        "# the BFH webpage https://www.bfh.ch/de/themen/cyber-security/. Copy the output to a file bfh.txt and upload it to this colab.\n",
        "\n",
        "import os\n",
        "text=open('/content/drive/MyDrive/Testdata/bfh.txt').read()\n",
        "text"
      ],
      "execution_count": null,
      "outputs": []
    },
    {
      "cell_type": "code",
      "metadata": {
        "id": "GqAjOj7cxv4P"
      },
      "source": [
        "from wordcloud import WordCloud, STOPWORDS, ImageColorGenerator"
      ],
      "execution_count": null,
      "outputs": []
    },
    {
      "cell_type": "code",
      "metadata": {
        "id": "E5qtBPYbvAMd"
      },
      "source": [
        "# Generate a word cloud image\n",
        "wordcloud = WordCloud().generate(text)"
      ],
      "execution_count": null,
      "outputs": []
    },
    {
      "cell_type": "code",
      "metadata": {
        "id": "nCf4BfxG5bhQ"
      },
      "source": [
        "# Display the generated image:\n",
        "# the matplotlib way:\n",
        "import matplotlib.pyplot as plt\n",
        "plt.imshow(wordcloud, interpolation='bilinear')\n",
        "plt.axis(\"off\")"
      ],
      "execution_count": null,
      "outputs": []
    },
    {
      "cell_type": "code",
      "metadata": {
        "id": "BXX2WYsX5Y6B"
      },
      "source": [
        "# lower max_font_size\n",
        "wordcloud = WordCloud(max_font_size=20).generate(text)\n",
        "plt.figure()\n",
        "plt.imshow(wordcloud, interpolation=\"bilinear\")\n",
        "plt.axis(\"off\")\n",
        "plt.show()"
      ],
      "execution_count": null,
      "outputs": []
    },
    {
      "cell_type": "code",
      "metadata": {
        "id": "OK-fwAvG1dAJ"
      },
      "source": [
        "# The wordcloud shows stopwords frequently. We should remove stopwords in this case\n",
        "\n",
        "# we can use the STOPWORDS but they're in English. Let's add some manually for German\n",
        "\n",
        "germanstopwords = set({'Und','Zu','Das','Mehr','Die','eine','Als','bis','Uhr','Sie','für','nächste', 'Sind', 'über','in'})\n",
        "wordcloud = WordCloud(max_font_size=40,stopwords=germanstopwords).generate(text)\n",
        "plt.figure()\n",
        "plt.imshow(wordcloud, interpolation=\"bilinear\")\n",
        "plt.axis(\"off\")\n",
        "plt.show()"
      ],
      "execution_count": null,
      "outputs": []
    },
    {
      "cell_type": "markdown",
      "metadata": {
        "id": "3Jb5ognGCgSS"
      },
      "source": [
        "## 9 Back to digital forensics: visualising a Windows security eventlog\n",
        "\n",
        "We have collected the security event log of a Windows computer that was used in the MUS2019 capture the flag contest. The file was extracted using log2timeline and saved as an excel file. We will read the file and explore the data. You will learn more about log2timeline tomorrow on day 2."
      ]
    },
    {
      "cell_type": "code",
      "metadata": {
        "id": "CZaJs8SbDivv"
      },
      "source": [
        "# import various libraries that we will use\n",
        "import pandas as pd\n",
        "import numpy as np\n",
        "import datetime as dt\n",
        "import seaborn as sns\n",
        "from matplotlib.colors import LogNorm, Normalize\n",
        "\n",
        "# read the mus2019_win_security csv file\n",
        "from datetime import datetime\n",
        "mydateparser = lambda x: datetime.strptime(x, '%m/%d/%Y %I:%M:%S %p')\n",
        "\n",
        "eventlog = pd.read_csv(\n",
        "    \"/content/drive/MyDrive/Testdata/mus2019_win_security_evtx.csv\",\n",
        "    sep=\",\",usecols=[0,1,2,3,4,5],\n",
        "    header=0,\n",
        "    names=['Level','Date and Time','Source','Event ID','Task Category','Information'],\n",
        "    dtype={'Event ID':str},\n",
        "    parse_dates = ['Date and Time'],\n",
        "    date_parser=mydateparser,\n",
        "    index_col='Date and Time'\n",
        "    )"
      ],
      "execution_count": null,
      "outputs": []
    },
    {
      "cell_type": "markdown",
      "metadata": {
        "id": "vzPZuiQHEy52"
      },
      "source": [
        "Let's take a look at what we got"
      ]
    },
    {
      "cell_type": "code",
      "metadata": {
        "id": "P3nA5HBIE17b"
      },
      "source": [
        "eventlog"
      ],
      "execution_count": null,
      "outputs": []
    },
    {
      "cell_type": "code",
      "metadata": {
        "id": "QG1yRv-0I8W4"
      },
      "source": [
        "eventlog.head()"
      ],
      "execution_count": null,
      "outputs": []
    },
    {
      "cell_type": "markdown",
      "metadata": {
        "id": "G_9SWpInBWoi"
      },
      "source": [
        "# Exercises\n",
        "\n"
      ]
    },
    {
      "cell_type": "markdown",
      "metadata": {
        "id": "PATycHI0J8ce"
      },
      "source": [
        "## 1 Create a histogram of the Task Category values. Which category occcurs most often?"
      ]
    },
    {
      "cell_type": "code",
      "metadata": {
        "id": "52ParP0fKrL5"
      },
      "source": [
        "# 1a Count the values so you get an idea\n",
        "#\n",
        "# Your answer"
      ],
      "execution_count": null,
      "outputs": []
    },
    {
      "cell_type": "code",
      "metadata": {
        "id": "v69eFnuBKn5S"
      },
      "source": [
        "# 1b Histogram visualisation\n",
        "# hint: check the docs https://pandas.pydata.org/pandas-docs/stable/reference/api/pandas.DataFrame.hist.html\n",
        "#\n",
        "# Your answer"
      ],
      "execution_count": null,
      "outputs": []
    },
    {
      "cell_type": "code",
      "metadata": {
        "id": "Uql2KIgQKwnB"
      },
      "source": [
        "# 1c As a bar plot\n",
        "#\n",
        "# Your answer"
      ],
      "execution_count": null,
      "outputs": []
    },
    {
      "cell_type": "markdown",
      "metadata": {
        "id": "njhFoOmILeKW"
      },
      "source": [
        "## 2 Create a heatmap visualising number of entries per day with hours vertical\n",
        "\n",
        "Hint: the date time object can be split in year month day and hours and use the Searborn heatmap"
      ]
    },
    {
      "cell_type": "code",
      "metadata": {
        "id": "nimT1I-9MCHh"
      },
      "source": [
        "# Your answer"
      ],
      "execution_count": null,
      "outputs": []
    },
    {
      "cell_type": "markdown",
      "metadata": {
        "id": "KvgpBzvZOjfc"
      },
      "source": [
        "## 3 Create a heatmap as in #2 but now only for logoff events"
      ]
    },
    {
      "cell_type": "code",
      "metadata": {
        "id": "5jpqJcmCjq1E"
      },
      "source": [
        "# your answer"
      ],
      "execution_count": null,
      "outputs": []
    },
    {
      "cell_type": "markdown",
      "metadata": {
        "id": "NmLVcuoWjv2Q"
      },
      "source": [
        "## 4 Create a treemap visualisation based on the 2nd and 3rd folder in the path using the combined file size\n",
        "\n",
        "Use the DirPrint_Filelist - clean.xlsx file that you used in part 1 and add the Folders column by splitting the Path column"
      ]
    },
    {
      "cell_type": "code",
      "metadata": {
        "id": "TDOAaMlo4LKk"
      },
      "source": [
        "# Your answer\n",
        "#\n",
        "# hint: here is a page with help on string splitting https://jakevdp.github.io/WhirlwindTourOfPython/14-strings-and-regular-expressions.html"
      ],
      "execution_count": null,
      "outputs": []
    },
    {
      "cell_type": "markdown",
      "metadata": {
        "id": "4j_Ma8O1jfEh"
      },
      "source": [
        "## 5 Create a word cloud on a text that you have selected yourself"
      ]
    },
    {
      "cell_type": "code",
      "metadata": {
        "id": "GzkAPO-ves9G"
      },
      "source": [
        "# your answer\n",
        "#\n",
        "# hint: Reuse the code from example 8 to get started and find some example text\n",
        "# questions:\n",
        "# Did you run into issues?\n",
        "# Find any interesting results?\n",
        "# What about the stop words?"
      ],
      "execution_count": null,
      "outputs": []
    },
    {
      "cell_type": "markdown",
      "metadata": {
        "id": "l5v5rS-78xsO"
      },
      "source": [
        "## 6 Perform a Benford analysis on the file sizes of the DirPrint_Filelist - clean.xlsx file that we used this morning`"
      ]
    },
    {
      "cell_type": "code",
      "metadata": {
        "id": "HcZw8-mDjsmA"
      },
      "source": [
        "# your answer\n",
        "\n",
        "# advanced question: do you see anything unusual? how can you further investigate with what you learned today?"
      ],
      "execution_count": null,
      "outputs": []
    }
  ]
}